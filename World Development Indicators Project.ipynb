{
 "cells": [
  {
   "cell_type": "markdown",
   "metadata": {},
   "source": [
    "# Investigating the World Development Indicators Dataset."
   ]
  },
  {
   "cell_type": "markdown",
   "metadata": {},
   "source": [
    "## The following project aims to investigate and answer interesting questions about the world development indicators dataset that was provided by the World Bank and acquried from Kaggle. "
   ]
  },
  {
   "cell_type": "markdown",
   "metadata": {},
   "source": [
    "### Importing the necessary libraries."
   ]
  },
  {
   "cell_type": "code",
   "execution_count": 1,
   "metadata": {},
   "outputs": [],
   "source": [
    "import numpy as np\n",
    "import pandas as pd\n",
    "import matplotlib.pyplot as plt\n",
    "import seaborn as sns\n",
    "sns.set()"
   ]
  },
  {
   "cell_type": "markdown",
   "metadata": {},
   "source": [
    "### Reading in the dataset and initial analysis."
   ]
  },
  {
   "cell_type": "code",
   "execution_count": 2,
   "metadata": {},
   "outputs": [],
   "source": [
    "df = pd.read_csv('Indicators.csv')"
   ]
  },
  {
   "cell_type": "code",
   "execution_count": 3,
   "metadata": {},
   "outputs": [
    {
     "data": {
      "text/html": [
       "<div>\n",
       "<style scoped>\n",
       "    .dataframe tbody tr th:only-of-type {\n",
       "        vertical-align: middle;\n",
       "    }\n",
       "\n",
       "    .dataframe tbody tr th {\n",
       "        vertical-align: top;\n",
       "    }\n",
       "\n",
       "    .dataframe thead th {\n",
       "        text-align: right;\n",
       "    }\n",
       "</style>\n",
       "<table border=\"1\" class=\"dataframe\">\n",
       "  <thead>\n",
       "    <tr style=\"text-align: right;\">\n",
       "      <th></th>\n",
       "      <th>CountryName</th>\n",
       "      <th>CountryCode</th>\n",
       "      <th>IndicatorName</th>\n",
       "      <th>IndicatorCode</th>\n",
       "      <th>Year</th>\n",
       "      <th>Value</th>\n",
       "    </tr>\n",
       "  </thead>\n",
       "  <tbody>\n",
       "    <tr>\n",
       "      <th>0</th>\n",
       "      <td>Arab World</td>\n",
       "      <td>ARB</td>\n",
       "      <td>Adolescent fertility rate (births per 1,000 wo...</td>\n",
       "      <td>SP.ADO.TFRT</td>\n",
       "      <td>1960</td>\n",
       "      <td>1.335609e+02</td>\n",
       "    </tr>\n",
       "    <tr>\n",
       "      <th>1</th>\n",
       "      <td>Arab World</td>\n",
       "      <td>ARB</td>\n",
       "      <td>Age dependency ratio (% of working-age populat...</td>\n",
       "      <td>SP.POP.DPND</td>\n",
       "      <td>1960</td>\n",
       "      <td>8.779760e+01</td>\n",
       "    </tr>\n",
       "    <tr>\n",
       "      <th>2</th>\n",
       "      <td>Arab World</td>\n",
       "      <td>ARB</td>\n",
       "      <td>Age dependency ratio, old (% of working-age po...</td>\n",
       "      <td>SP.POP.DPND.OL</td>\n",
       "      <td>1960</td>\n",
       "      <td>6.634579e+00</td>\n",
       "    </tr>\n",
       "    <tr>\n",
       "      <th>3</th>\n",
       "      <td>Arab World</td>\n",
       "      <td>ARB</td>\n",
       "      <td>Age dependency ratio, young (% of working-age ...</td>\n",
       "      <td>SP.POP.DPND.YG</td>\n",
       "      <td>1960</td>\n",
       "      <td>8.102333e+01</td>\n",
       "    </tr>\n",
       "    <tr>\n",
       "      <th>4</th>\n",
       "      <td>Arab World</td>\n",
       "      <td>ARB</td>\n",
       "      <td>Arms exports (SIPRI trend indicator values)</td>\n",
       "      <td>MS.MIL.XPRT.KD</td>\n",
       "      <td>1960</td>\n",
       "      <td>3.000000e+06</td>\n",
       "    </tr>\n",
       "    <tr>\n",
       "      <th>5</th>\n",
       "      <td>Arab World</td>\n",
       "      <td>ARB</td>\n",
       "      <td>Arms imports (SIPRI trend indicator values)</td>\n",
       "      <td>MS.MIL.MPRT.KD</td>\n",
       "      <td>1960</td>\n",
       "      <td>5.380000e+08</td>\n",
       "    </tr>\n",
       "    <tr>\n",
       "      <th>6</th>\n",
       "      <td>Arab World</td>\n",
       "      <td>ARB</td>\n",
       "      <td>Birth rate, crude (per 1,000 people)</td>\n",
       "      <td>SP.DYN.CBRT.IN</td>\n",
       "      <td>1960</td>\n",
       "      <td>4.769789e+01</td>\n",
       "    </tr>\n",
       "    <tr>\n",
       "      <th>7</th>\n",
       "      <td>Arab World</td>\n",
       "      <td>ARB</td>\n",
       "      <td>CO2 emissions (kt)</td>\n",
       "      <td>EN.ATM.CO2E.KT</td>\n",
       "      <td>1960</td>\n",
       "      <td>5.956399e+04</td>\n",
       "    </tr>\n",
       "    <tr>\n",
       "      <th>8</th>\n",
       "      <td>Arab World</td>\n",
       "      <td>ARB</td>\n",
       "      <td>CO2 emissions (metric tons per capita)</td>\n",
       "      <td>EN.ATM.CO2E.PC</td>\n",
       "      <td>1960</td>\n",
       "      <td>6.439635e-01</td>\n",
       "    </tr>\n",
       "    <tr>\n",
       "      <th>9</th>\n",
       "      <td>Arab World</td>\n",
       "      <td>ARB</td>\n",
       "      <td>CO2 emissions from gaseous fuel consumption (%...</td>\n",
       "      <td>EN.ATM.CO2E.GF.ZS</td>\n",
       "      <td>1960</td>\n",
       "      <td>5.041292e+00</td>\n",
       "    </tr>\n",
       "  </tbody>\n",
       "</table>\n",
       "</div>"
      ],
      "text/plain": [
       "  CountryName CountryCode                                      IndicatorName  \\\n",
       "0  Arab World         ARB  Adolescent fertility rate (births per 1,000 wo...   \n",
       "1  Arab World         ARB  Age dependency ratio (% of working-age populat...   \n",
       "2  Arab World         ARB  Age dependency ratio, old (% of working-age po...   \n",
       "3  Arab World         ARB  Age dependency ratio, young (% of working-age ...   \n",
       "4  Arab World         ARB        Arms exports (SIPRI trend indicator values)   \n",
       "5  Arab World         ARB        Arms imports (SIPRI trend indicator values)   \n",
       "6  Arab World         ARB               Birth rate, crude (per 1,000 people)   \n",
       "7  Arab World         ARB                                 CO2 emissions (kt)   \n",
       "8  Arab World         ARB             CO2 emissions (metric tons per capita)   \n",
       "9  Arab World         ARB  CO2 emissions from gaseous fuel consumption (%...   \n",
       "\n",
       "       IndicatorCode  Year         Value  \n",
       "0        SP.ADO.TFRT  1960  1.335609e+02  \n",
       "1        SP.POP.DPND  1960  8.779760e+01  \n",
       "2     SP.POP.DPND.OL  1960  6.634579e+00  \n",
       "3     SP.POP.DPND.YG  1960  8.102333e+01  \n",
       "4     MS.MIL.XPRT.KD  1960  3.000000e+06  \n",
       "5     MS.MIL.MPRT.KD  1960  5.380000e+08  \n",
       "6     SP.DYN.CBRT.IN  1960  4.769789e+01  \n",
       "7     EN.ATM.CO2E.KT  1960  5.956399e+04  \n",
       "8     EN.ATM.CO2E.PC  1960  6.439635e-01  \n",
       "9  EN.ATM.CO2E.GF.ZS  1960  5.041292e+00  "
      ]
     },
     "execution_count": 3,
     "metadata": {},
     "output_type": "execute_result"
    }
   ],
   "source": [
    "# displaying the first 10 rows.\n",
    "df.head(10)"
   ]
  },
  {
   "cell_type": "code",
   "execution_count": 4,
   "metadata": {},
   "outputs": [
    {
     "data": {
      "text/html": [
       "<div>\n",
       "<style scoped>\n",
       "    .dataframe tbody tr th:only-of-type {\n",
       "        vertical-align: middle;\n",
       "    }\n",
       "\n",
       "    .dataframe tbody tr th {\n",
       "        vertical-align: top;\n",
       "    }\n",
       "\n",
       "    .dataframe thead th {\n",
       "        text-align: right;\n",
       "    }\n",
       "</style>\n",
       "<table border=\"1\" class=\"dataframe\">\n",
       "  <thead>\n",
       "    <tr style=\"text-align: right;\">\n",
       "      <th></th>\n",
       "      <th>Year</th>\n",
       "      <th>Value</th>\n",
       "    </tr>\n",
       "  </thead>\n",
       "  <tbody>\n",
       "    <tr>\n",
       "      <th>count</th>\n",
       "      <td>5.656458e+06</td>\n",
       "      <td>5.656458e+06</td>\n",
       "    </tr>\n",
       "    <tr>\n",
       "      <th>mean</th>\n",
       "      <td>1.994464e+03</td>\n",
       "      <td>1.070501e+12</td>\n",
       "    </tr>\n",
       "    <tr>\n",
       "      <th>std</th>\n",
       "      <td>1.387895e+01</td>\n",
       "      <td>4.842469e+13</td>\n",
       "    </tr>\n",
       "    <tr>\n",
       "      <th>min</th>\n",
       "      <td>1.960000e+03</td>\n",
       "      <td>-9.824821e+15</td>\n",
       "    </tr>\n",
       "    <tr>\n",
       "      <th>25%</th>\n",
       "      <td>1.984000e+03</td>\n",
       "      <td>5.566242e+00</td>\n",
       "    </tr>\n",
       "    <tr>\n",
       "      <th>50%</th>\n",
       "      <td>1.997000e+03</td>\n",
       "      <td>6.357450e+01</td>\n",
       "    </tr>\n",
       "    <tr>\n",
       "      <th>75%</th>\n",
       "      <td>2.006000e+03</td>\n",
       "      <td>1.346722e+07</td>\n",
       "    </tr>\n",
       "    <tr>\n",
       "      <th>max</th>\n",
       "      <td>2.015000e+03</td>\n",
       "      <td>1.103367e+16</td>\n",
       "    </tr>\n",
       "  </tbody>\n",
       "</table>\n",
       "</div>"
      ],
      "text/plain": [
       "               Year         Value\n",
       "count  5.656458e+06  5.656458e+06\n",
       "mean   1.994464e+03  1.070501e+12\n",
       "std    1.387895e+01  4.842469e+13\n",
       "min    1.960000e+03 -9.824821e+15\n",
       "25%    1.984000e+03  5.566242e+00\n",
       "50%    1.997000e+03  6.357450e+01\n",
       "75%    2.006000e+03  1.346722e+07\n",
       "max    2.015000e+03  1.103367e+16"
      ]
     },
     "execution_count": 4,
     "metadata": {},
     "output_type": "execute_result"
    }
   ],
   "source": [
    "df.describe()"
   ]
  },
  {
   "cell_type": "code",
   "execution_count": 5,
   "metadata": {},
   "outputs": [
    {
     "name": "stdout",
     "output_type": "stream",
     "text": [
      "<class 'pandas.core.frame.DataFrame'>\n",
      "RangeIndex: 5656458 entries, 0 to 5656457\n",
      "Data columns (total 6 columns):\n",
      "CountryName      object\n",
      "CountryCode      object\n",
      "IndicatorName    object\n",
      "IndicatorCode    object\n",
      "Year             int64\n",
      "Value            float64\n",
      "dtypes: float64(1), int64(1), object(4)\n",
      "memory usage: 258.9+ MB\n"
     ]
    }
   ],
   "source": [
    "df.info()"
   ]
  },
  {
   "cell_type": "code",
   "execution_count": 6,
   "metadata": {},
   "outputs": [
    {
     "data": {
      "text/plain": [
       "CountryName      0\n",
       "CountryCode      0\n",
       "IndicatorName    0\n",
       "IndicatorCode    0\n",
       "Year             0\n",
       "Value            0\n",
       "dtype: int64"
      ]
     },
     "execution_count": 6,
     "metadata": {},
     "output_type": "execute_result"
    }
   ],
   "source": [
    "# counting the number of missing values.\n",
    "df.isna().sum()"
   ]
  },
  {
   "cell_type": "markdown",
   "metadata": {},
   "source": [
    "Upon first analysis, we can see that there are over 5.6 million rows and only 6 columns in this dataset, therefore, this dataset is quite big. We can also see that there are no missing values in this dataset. Perhaps we will not be working with all of the data but rather a section of it for our analysis."
   ]
  },
  {
   "cell_type": "markdown",
   "metadata": {},
   "source": [
    "#### The columns are as follows:\n",
    "\n",
    "* CountryName = Country \n",
    "* CountryCode = Country Code\n",
    "* IndicatorName = Indicator in question\n",
    "* IndicatorCode = Indicator Code\n",
    "* Year = Year in question\n",
    "* Value = Value corresponding to the Indicator in question"
   ]
  },
  {
   "cell_type": "markdown",
   "metadata": {},
   "source": [
    "### Changing the columns to be more readable."
   ]
  },
  {
   "cell_type": "code",
   "execution_count": 7,
   "metadata": {},
   "outputs": [],
   "source": [
    "mapping = {'CountryName': 'Country', 'CountryCode':'country_code', 'IndicatorName':'indicator_name',\n",
    "          'IndicatorCode':'indicator_code'}\n",
    "\n",
    "df.rename(columns=mapping, inplace=True)"
   ]
  },
  {
   "cell_type": "code",
   "execution_count": 8,
   "metadata": {},
   "outputs": [
    {
     "data": {
      "text/html": [
       "<div>\n",
       "<style scoped>\n",
       "    .dataframe tbody tr th:only-of-type {\n",
       "        vertical-align: middle;\n",
       "    }\n",
       "\n",
       "    .dataframe tbody tr th {\n",
       "        vertical-align: top;\n",
       "    }\n",
       "\n",
       "    .dataframe thead th {\n",
       "        text-align: right;\n",
       "    }\n",
       "</style>\n",
       "<table border=\"1\" class=\"dataframe\">\n",
       "  <thead>\n",
       "    <tr style=\"text-align: right;\">\n",
       "      <th></th>\n",
       "      <th>Country</th>\n",
       "      <th>country_code</th>\n",
       "      <th>indicator_name</th>\n",
       "      <th>indicator_code</th>\n",
       "      <th>Year</th>\n",
       "      <th>Value</th>\n",
       "    </tr>\n",
       "  </thead>\n",
       "  <tbody>\n",
       "    <tr>\n",
       "      <th>0</th>\n",
       "      <td>Arab World</td>\n",
       "      <td>ARB</td>\n",
       "      <td>Adolescent fertility rate (births per 1,000 wo...</td>\n",
       "      <td>SP.ADO.TFRT</td>\n",
       "      <td>1960</td>\n",
       "      <td>1.335609e+02</td>\n",
       "    </tr>\n",
       "    <tr>\n",
       "      <th>1</th>\n",
       "      <td>Arab World</td>\n",
       "      <td>ARB</td>\n",
       "      <td>Age dependency ratio (% of working-age populat...</td>\n",
       "      <td>SP.POP.DPND</td>\n",
       "      <td>1960</td>\n",
       "      <td>8.779760e+01</td>\n",
       "    </tr>\n",
       "    <tr>\n",
       "      <th>2</th>\n",
       "      <td>Arab World</td>\n",
       "      <td>ARB</td>\n",
       "      <td>Age dependency ratio, old (% of working-age po...</td>\n",
       "      <td>SP.POP.DPND.OL</td>\n",
       "      <td>1960</td>\n",
       "      <td>6.634579e+00</td>\n",
       "    </tr>\n",
       "    <tr>\n",
       "      <th>3</th>\n",
       "      <td>Arab World</td>\n",
       "      <td>ARB</td>\n",
       "      <td>Age dependency ratio, young (% of working-age ...</td>\n",
       "      <td>SP.POP.DPND.YG</td>\n",
       "      <td>1960</td>\n",
       "      <td>8.102333e+01</td>\n",
       "    </tr>\n",
       "    <tr>\n",
       "      <th>4</th>\n",
       "      <td>Arab World</td>\n",
       "      <td>ARB</td>\n",
       "      <td>Arms exports (SIPRI trend indicator values)</td>\n",
       "      <td>MS.MIL.XPRT.KD</td>\n",
       "      <td>1960</td>\n",
       "      <td>3.000000e+06</td>\n",
       "    </tr>\n",
       "  </tbody>\n",
       "</table>\n",
       "</div>"
      ],
      "text/plain": [
       "      Country country_code                                     indicator_name  \\\n",
       "0  Arab World          ARB  Adolescent fertility rate (births per 1,000 wo...   \n",
       "1  Arab World          ARB  Age dependency ratio (% of working-age populat...   \n",
       "2  Arab World          ARB  Age dependency ratio, old (% of working-age po...   \n",
       "3  Arab World          ARB  Age dependency ratio, young (% of working-age ...   \n",
       "4  Arab World          ARB        Arms exports (SIPRI trend indicator values)   \n",
       "\n",
       "   indicator_code  Year         Value  \n",
       "0     SP.ADO.TFRT  1960  1.335609e+02  \n",
       "1     SP.POP.DPND  1960  8.779760e+01  \n",
       "2  SP.POP.DPND.OL  1960  6.634579e+00  \n",
       "3  SP.POP.DPND.YG  1960  8.102333e+01  \n",
       "4  MS.MIL.XPRT.KD  1960  3.000000e+06  "
      ]
     },
     "execution_count": 8,
     "metadata": {},
     "output_type": "execute_result"
    }
   ],
   "source": [
    "df.head()"
   ]
  },
  {
   "cell_type": "markdown",
   "metadata": {},
   "source": [
    "### Changing the index to Country and then subsequently dropping the Country column."
   ]
  },
  {
   "cell_type": "code",
   "execution_count": 9,
   "metadata": {},
   "outputs": [],
   "source": [
    "df.index = df.Country"
   ]
  },
  {
   "cell_type": "code",
   "execution_count": 10,
   "metadata": {},
   "outputs": [
    {
     "data": {
      "text/html": [
       "<div>\n",
       "<style scoped>\n",
       "    .dataframe tbody tr th:only-of-type {\n",
       "        vertical-align: middle;\n",
       "    }\n",
       "\n",
       "    .dataframe tbody tr th {\n",
       "        vertical-align: top;\n",
       "    }\n",
       "\n",
       "    .dataframe thead th {\n",
       "        text-align: right;\n",
       "    }\n",
       "</style>\n",
       "<table border=\"1\" class=\"dataframe\">\n",
       "  <thead>\n",
       "    <tr style=\"text-align: right;\">\n",
       "      <th></th>\n",
       "      <th>Country</th>\n",
       "      <th>country_code</th>\n",
       "      <th>indicator_name</th>\n",
       "      <th>indicator_code</th>\n",
       "      <th>Year</th>\n",
       "      <th>Value</th>\n",
       "    </tr>\n",
       "    <tr>\n",
       "      <th>Country</th>\n",
       "      <th></th>\n",
       "      <th></th>\n",
       "      <th></th>\n",
       "      <th></th>\n",
       "      <th></th>\n",
       "      <th></th>\n",
       "    </tr>\n",
       "  </thead>\n",
       "  <tbody>\n",
       "    <tr>\n",
       "      <th>Arab World</th>\n",
       "      <td>Arab World</td>\n",
       "      <td>ARB</td>\n",
       "      <td>Adolescent fertility rate (births per 1,000 wo...</td>\n",
       "      <td>SP.ADO.TFRT</td>\n",
       "      <td>1960</td>\n",
       "      <td>1.335609e+02</td>\n",
       "    </tr>\n",
       "    <tr>\n",
       "      <th>Arab World</th>\n",
       "      <td>Arab World</td>\n",
       "      <td>ARB</td>\n",
       "      <td>Age dependency ratio (% of working-age populat...</td>\n",
       "      <td>SP.POP.DPND</td>\n",
       "      <td>1960</td>\n",
       "      <td>8.779760e+01</td>\n",
       "    </tr>\n",
       "    <tr>\n",
       "      <th>Arab World</th>\n",
       "      <td>Arab World</td>\n",
       "      <td>ARB</td>\n",
       "      <td>Age dependency ratio, old (% of working-age po...</td>\n",
       "      <td>SP.POP.DPND.OL</td>\n",
       "      <td>1960</td>\n",
       "      <td>6.634579e+00</td>\n",
       "    </tr>\n",
       "    <tr>\n",
       "      <th>Arab World</th>\n",
       "      <td>Arab World</td>\n",
       "      <td>ARB</td>\n",
       "      <td>Age dependency ratio, young (% of working-age ...</td>\n",
       "      <td>SP.POP.DPND.YG</td>\n",
       "      <td>1960</td>\n",
       "      <td>8.102333e+01</td>\n",
       "    </tr>\n",
       "    <tr>\n",
       "      <th>Arab World</th>\n",
       "      <td>Arab World</td>\n",
       "      <td>ARB</td>\n",
       "      <td>Arms exports (SIPRI trend indicator values)</td>\n",
       "      <td>MS.MIL.XPRT.KD</td>\n",
       "      <td>1960</td>\n",
       "      <td>3.000000e+06</td>\n",
       "    </tr>\n",
       "  </tbody>\n",
       "</table>\n",
       "</div>"
      ],
      "text/plain": [
       "               Country country_code  \\\n",
       "Country                               \n",
       "Arab World  Arab World          ARB   \n",
       "Arab World  Arab World          ARB   \n",
       "Arab World  Arab World          ARB   \n",
       "Arab World  Arab World          ARB   \n",
       "Arab World  Arab World          ARB   \n",
       "\n",
       "                                               indicator_name  indicator_code  \\\n",
       "Country                                                                         \n",
       "Arab World  Adolescent fertility rate (births per 1,000 wo...     SP.ADO.TFRT   \n",
       "Arab World  Age dependency ratio (% of working-age populat...     SP.POP.DPND   \n",
       "Arab World  Age dependency ratio, old (% of working-age po...  SP.POP.DPND.OL   \n",
       "Arab World  Age dependency ratio, young (% of working-age ...  SP.POP.DPND.YG   \n",
       "Arab World        Arms exports (SIPRI trend indicator values)  MS.MIL.XPRT.KD   \n",
       "\n",
       "            Year         Value  \n",
       "Country                         \n",
       "Arab World  1960  1.335609e+02  \n",
       "Arab World  1960  8.779760e+01  \n",
       "Arab World  1960  6.634579e+00  \n",
       "Arab World  1960  8.102333e+01  \n",
       "Arab World  1960  3.000000e+06  "
      ]
     },
     "execution_count": 10,
     "metadata": {},
     "output_type": "execute_result"
    }
   ],
   "source": [
    "df.head()"
   ]
  },
  {
   "cell_type": "code",
   "execution_count": 11,
   "metadata": {},
   "outputs": [],
   "source": [
    "df.drop(columns='Country', inplace=True)"
   ]
  },
  {
   "cell_type": "code",
   "execution_count": 12,
   "metadata": {},
   "outputs": [
    {
     "data": {
      "text/html": [
       "<div>\n",
       "<style scoped>\n",
       "    .dataframe tbody tr th:only-of-type {\n",
       "        vertical-align: middle;\n",
       "    }\n",
       "\n",
       "    .dataframe tbody tr th {\n",
       "        vertical-align: top;\n",
       "    }\n",
       "\n",
       "    .dataframe thead th {\n",
       "        text-align: right;\n",
       "    }\n",
       "</style>\n",
       "<table border=\"1\" class=\"dataframe\">\n",
       "  <thead>\n",
       "    <tr style=\"text-align: right;\">\n",
       "      <th></th>\n",
       "      <th>country_code</th>\n",
       "      <th>indicator_name</th>\n",
       "      <th>indicator_code</th>\n",
       "      <th>Year</th>\n",
       "      <th>Value</th>\n",
       "    </tr>\n",
       "    <tr>\n",
       "      <th>Country</th>\n",
       "      <th></th>\n",
       "      <th></th>\n",
       "      <th></th>\n",
       "      <th></th>\n",
       "      <th></th>\n",
       "    </tr>\n",
       "  </thead>\n",
       "  <tbody>\n",
       "    <tr>\n",
       "      <th>Arab World</th>\n",
       "      <td>ARB</td>\n",
       "      <td>Adolescent fertility rate (births per 1,000 wo...</td>\n",
       "      <td>SP.ADO.TFRT</td>\n",
       "      <td>1960</td>\n",
       "      <td>1.335609e+02</td>\n",
       "    </tr>\n",
       "    <tr>\n",
       "      <th>Arab World</th>\n",
       "      <td>ARB</td>\n",
       "      <td>Age dependency ratio (% of working-age populat...</td>\n",
       "      <td>SP.POP.DPND</td>\n",
       "      <td>1960</td>\n",
       "      <td>8.779760e+01</td>\n",
       "    </tr>\n",
       "    <tr>\n",
       "      <th>Arab World</th>\n",
       "      <td>ARB</td>\n",
       "      <td>Age dependency ratio, old (% of working-age po...</td>\n",
       "      <td>SP.POP.DPND.OL</td>\n",
       "      <td>1960</td>\n",
       "      <td>6.634579e+00</td>\n",
       "    </tr>\n",
       "    <tr>\n",
       "      <th>Arab World</th>\n",
       "      <td>ARB</td>\n",
       "      <td>Age dependency ratio, young (% of working-age ...</td>\n",
       "      <td>SP.POP.DPND.YG</td>\n",
       "      <td>1960</td>\n",
       "      <td>8.102333e+01</td>\n",
       "    </tr>\n",
       "    <tr>\n",
       "      <th>Arab World</th>\n",
       "      <td>ARB</td>\n",
       "      <td>Arms exports (SIPRI trend indicator values)</td>\n",
       "      <td>MS.MIL.XPRT.KD</td>\n",
       "      <td>1960</td>\n",
       "      <td>3.000000e+06</td>\n",
       "    </tr>\n",
       "  </tbody>\n",
       "</table>\n",
       "</div>"
      ],
      "text/plain": [
       "           country_code                                     indicator_name  \\\n",
       "Country                                                                      \n",
       "Arab World          ARB  Adolescent fertility rate (births per 1,000 wo...   \n",
       "Arab World          ARB  Age dependency ratio (% of working-age populat...   \n",
       "Arab World          ARB  Age dependency ratio, old (% of working-age po...   \n",
       "Arab World          ARB  Age dependency ratio, young (% of working-age ...   \n",
       "Arab World          ARB        Arms exports (SIPRI trend indicator values)   \n",
       "\n",
       "            indicator_code  Year         Value  \n",
       "Country                                         \n",
       "Arab World     SP.ADO.TFRT  1960  1.335609e+02  \n",
       "Arab World     SP.POP.DPND  1960  8.779760e+01  \n",
       "Arab World  SP.POP.DPND.OL  1960  6.634579e+00  \n",
       "Arab World  SP.POP.DPND.YG  1960  8.102333e+01  \n",
       "Arab World  MS.MIL.XPRT.KD  1960  3.000000e+06  "
      ]
     },
     "execution_count": 12,
     "metadata": {},
     "output_type": "execute_result"
    }
   ],
   "source": [
    "df.head()"
   ]
  },
  {
   "cell_type": "code",
   "execution_count": 13,
   "metadata": {},
   "outputs": [
    {
     "data": {
      "text/plain": [
       "Population, total                                                                                                    13484\n",
       "Population growth (annual %)                                                                                         13442\n",
       "Rural population (% of total population)                                                                             13415\n",
       "Urban population (% of total)                                                                                        13415\n",
       "Urban population                                                                                                     13374\n",
       "Rural population                                                                                                     13374\n",
       "Urban population growth (annual %)                                                                                   13337\n",
       "Surface area (sq. km)                                                                                                13090\n",
       "Land area (sq. km)                                                                                                   13086\n",
       "Rural population growth (annual %)                                                                                   13061\n",
       "Population density (people per sq. km of land area)                                                                  12988\n",
       "Death rate, crude (per 1,000 people)                                                                                 12486\n",
       "Birth rate, crude (per 1,000 people)                                                                                 12485\n",
       "Adolescent fertility rate (births per 1,000 women ages 15-19)                                                        12485\n",
       "Population ages 65 and above (% of total)                                                                            12426\n",
       "Population, ages 0-14 (% of total)                                                                                   12426\n",
       "Population, female (% of total)                                                                                      12426\n",
       "Population, ages 15-64 (% of total)                                                                                  12426\n",
       "Age dependency ratio (% of working-age population)                                                                   12423\n",
       "Age dependency ratio, young (% of working-age population)                                                            12423\n",
       "Age dependency ratio, old (% of working-age population)                                                              12423\n",
       "Life expectancy at birth, male (years)                                                                               12304\n",
       "Life expectancy at birth, female (years)                                                                             12304\n",
       "Life expectancy at birth, total (years)                                                                              12304\n",
       "Fertility rate, total (births per woman)                                                                             12266\n",
       "Survival to age 65, male (% of cohort)                                                                               12258\n",
       "Survival to age 65, female (% of cohort)                                                                             12258\n",
       "Mortality rate, adult, male (per 1,000 male adults)                                                                  11939\n",
       "Mortality rate, adult, female (per 1,000 female adults)                                                              11939\n",
       "Agricultural land (sq. km)                                                                                           11751\n",
       "                                                                                                                     ...  \n",
       "Child employment in agriculture, male (% of male economically active children ages 7-14)                               122\n",
       "Child employment in services, female (% of female economically active children ages 7-14)                              122\n",
       "Child employment in manufacturing, female (% of female economically active children ages 7-14)                         120\n",
       "Child employment in manufacturing, male (% of male economically active children ages 7-14)                             120\n",
       "Present value of external debt (current US$)                                                                           118\n",
       "Net official flows from UN agencies, UNECE (current US$)                                                               114\n",
       "Coverage (%) - All Labor Market                                                                                        114\n",
       "Child employment in agriculture (% of economically active children ages 7-14)                                          114\n",
       "Child employment in services (% of economically active children ages 7-14)                                             114\n",
       "Child employment in manufacturing (% of economically active children ages 7-14)                                        113\n",
       "Present value of external debt (% of GNI)                                                                              100\n",
       "Point-of-sale terminals (per 100,000 adults)                                                                           100\n",
       "Annualized average growth rate in per capita real survey mean consumption or income, bottom 40% of population (%)       94\n",
       "Annualized average growth rate in per capita real survey mean consumption or income, total population (%)               94\n",
       "Average working hours of children, study and work, ages 7-14 (hours per week)                                           90\n",
       "Average working hours of children, study and work, female, ages 7-14 (hours per week)                                   90\n",
       "Average working hours of children, study and work, male, ages 7-14 (hours per week)                                     90\n",
       "Average working hours of children, working only, male, ages 7-14 (hours per week)                                       85\n",
       "Presence of peace keepers (number of troops, police, and military observers in mandate)                                 85\n",
       "Average working hours of children, working only, ages 7-14 (hours per week)                                             85\n",
       "Disaster risk reduction progress score (1-5 scale; 5=best)                                                              83\n",
       "Average working hours of children, working only, female, ages 7-14 (hours per week)                                     83\n",
       "Children in employment, self-employed, female (% of female children in employment, ages 7-14)                           70\n",
       "Children in employment, self-employed (% of children in employment, ages 7-14)                                          70\n",
       "Children in employment, self-employed, male (% of male children in employment, ages 7-14)                               70\n",
       "Present value of external debt (% of exports of goods, services and primary income)                                     69\n",
       "Adequacy of unemployment benefits and ALMP (% of total welfare of beneficiary households)                               67\n",
       "Benefits incidence in poorest quintile (%) - All Labor Market                                                           67\n",
       "Survey mean consumption or income per capita, bottom 40% of population (2005 PPP $ per day)                              8\n",
       "Survey mean consumption or income per capita, total population (2005 PPP $ per day)                                      8\n",
       "Name: indicator_name, Length: 1344, dtype: int64"
      ]
     },
     "execution_count": 13,
     "metadata": {},
     "output_type": "execute_result"
    }
   ],
   "source": [
    "df.indicator_name.value_counts()"
   ]
  },
  {
   "cell_type": "markdown",
   "metadata": {},
   "source": [
    "## Let's look at life expectancy at birth for both male and female, as well as survival to age 65 for both male and female and see if there is a difference."
   ]
  },
  {
   "cell_type": "code",
   "execution_count": 14,
   "metadata": {},
   "outputs": [],
   "source": [
    "male_subset = df[df['indicator_name'] == 'Life expectancy at birth, male (years)']"
   ]
  },
  {
   "cell_type": "code",
   "execution_count": 15,
   "metadata": {},
   "outputs": [
    {
     "data": {
      "text/plain": [
       "pandas.core.frame.DataFrame"
      ]
     },
     "execution_count": 15,
     "metadata": {},
     "output_type": "execute_result"
    }
   ],
   "source": [
    "type(male_subset)"
   ]
  },
  {
   "cell_type": "code",
   "execution_count": 16,
   "metadata": {},
   "outputs": [
    {
     "data": {
      "text/html": [
       "<div>\n",
       "<style scoped>\n",
       "    .dataframe tbody tr th:only-of-type {\n",
       "        vertical-align: middle;\n",
       "    }\n",
       "\n",
       "    .dataframe tbody tr th {\n",
       "        vertical-align: top;\n",
       "    }\n",
       "\n",
       "    .dataframe thead th {\n",
       "        text-align: right;\n",
       "    }\n",
       "</style>\n",
       "<table border=\"1\" class=\"dataframe\">\n",
       "  <thead>\n",
       "    <tr style=\"text-align: right;\">\n",
       "      <th></th>\n",
       "      <th>country_code</th>\n",
       "      <th>indicator_name</th>\n",
       "      <th>indicator_code</th>\n",
       "      <th>Year</th>\n",
       "      <th>Value</th>\n",
       "    </tr>\n",
       "    <tr>\n",
       "      <th>Country</th>\n",
       "      <th></th>\n",
       "      <th></th>\n",
       "      <th></th>\n",
       "      <th></th>\n",
       "      <th></th>\n",
       "    </tr>\n",
       "  </thead>\n",
       "  <tbody>\n",
       "    <tr>\n",
       "      <th>Arab World</th>\n",
       "      <td>ARB</td>\n",
       "      <td>Life expectancy at birth, male (years)</td>\n",
       "      <td>SP.DYN.LE00.MA.IN</td>\n",
       "      <td>1960</td>\n",
       "      <td>45.862949</td>\n",
       "    </tr>\n",
       "    <tr>\n",
       "      <th>Caribbean small states</th>\n",
       "      <td>CSS</td>\n",
       "      <td>Life expectancy at birth, male (years)</td>\n",
       "      <td>SP.DYN.LE00.MA.IN</td>\n",
       "      <td>1960</td>\n",
       "      <td>60.336875</td>\n",
       "    </tr>\n",
       "    <tr>\n",
       "      <th>Central Europe and the Baltics</th>\n",
       "      <td>CEB</td>\n",
       "      <td>Life expectancy at birth, male (years)</td>\n",
       "      <td>SP.DYN.LE00.MA.IN</td>\n",
       "      <td>1960</td>\n",
       "      <td>65.415992</td>\n",
       "    </tr>\n",
       "    <tr>\n",
       "      <th>East Asia &amp; Pacific (all income levels)</th>\n",
       "      <td>EAS</td>\n",
       "      <td>Life expectancy at birth, male (years)</td>\n",
       "      <td>SP.DYN.LE00.MA.IN</td>\n",
       "      <td>1960</td>\n",
       "      <td>46.246988</td>\n",
       "    </tr>\n",
       "    <tr>\n",
       "      <th>East Asia &amp; Pacific (developing only)</th>\n",
       "      <td>EAP</td>\n",
       "      <td>Life expectancy at birth, male (years)</td>\n",
       "      <td>SP.DYN.LE00.MA.IN</td>\n",
       "      <td>1960</td>\n",
       "      <td>43.834952</td>\n",
       "    </tr>\n",
       "  </tbody>\n",
       "</table>\n",
       "</div>"
      ],
      "text/plain": [
       "                                        country_code  \\\n",
       "Country                                                \n",
       "Arab World                                       ARB   \n",
       "Caribbean small states                           CSS   \n",
       "Central Europe and the Baltics                   CEB   \n",
       "East Asia & Pacific (all income levels)          EAS   \n",
       "East Asia & Pacific (developing only)            EAP   \n",
       "\n",
       "                                                                 indicator_name  \\\n",
       "Country                                                                           \n",
       "Arab World                               Life expectancy at birth, male (years)   \n",
       "Caribbean small states                   Life expectancy at birth, male (years)   \n",
       "Central Europe and the Baltics           Life expectancy at birth, male (years)   \n",
       "East Asia & Pacific (all income levels)  Life expectancy at birth, male (years)   \n",
       "East Asia & Pacific (developing only)    Life expectancy at birth, male (years)   \n",
       "\n",
       "                                            indicator_code  Year      Value  \n",
       "Country                                                                      \n",
       "Arab World                               SP.DYN.LE00.MA.IN  1960  45.862949  \n",
       "Caribbean small states                   SP.DYN.LE00.MA.IN  1960  60.336875  \n",
       "Central Europe and the Baltics           SP.DYN.LE00.MA.IN  1960  65.415992  \n",
       "East Asia & Pacific (all income levels)  SP.DYN.LE00.MA.IN  1960  46.246988  \n",
       "East Asia & Pacific (developing only)    SP.DYN.LE00.MA.IN  1960  43.834952  "
      ]
     },
     "execution_count": 16,
     "metadata": {},
     "output_type": "execute_result"
    }
   ],
   "source": [
    "male_subset.head()"
   ]
  },
  {
   "cell_type": "code",
   "execution_count": 17,
   "metadata": {},
   "outputs": [],
   "source": [
    "m_life_expect = male_subset.groupby('Year')['Value'].mean()"
   ]
  },
  {
   "cell_type": "code",
   "execution_count": 18,
   "metadata": {},
   "outputs": [
    {
     "data": {
      "text/plain": [
       "pandas.core.series.Series"
      ]
     },
     "execution_count": 18,
     "metadata": {},
     "output_type": "execute_result"
    }
   ],
   "source": [
    "type(m_life_expect)"
   ]
  },
  {
   "cell_type": "code",
   "execution_count": 19,
   "metadata": {},
   "outputs": [
    {
     "data": {
      "text/plain": [
       "Year\n",
       "1960    51.875660\n",
       "1961    52.406173\n",
       "1962    52.780612\n",
       "1963    53.133771\n",
       "1964    53.612611\n",
       "Name: Value, dtype: float64"
      ]
     },
     "execution_count": 19,
     "metadata": {},
     "output_type": "execute_result"
    }
   ],
   "source": [
    "m_life_expect.head()"
   ]
  },
  {
   "cell_type": "code",
   "execution_count": 20,
   "metadata": {},
   "outputs": [
    {
     "data": {
      "text/plain": [
       "Year\n",
       "2009    67.658283\n",
       "2010    67.953467\n",
       "2011    68.313811\n",
       "2012    68.534471\n",
       "2013    68.801886\n",
       "Name: Value, dtype: float64"
      ]
     },
     "execution_count": 20,
     "metadata": {},
     "output_type": "execute_result"
    }
   ],
   "source": [
    "m_life_expect.tail()"
   ]
  },
  {
   "cell_type": "code",
   "execution_count": 21,
   "metadata": {},
   "outputs": [
    {
     "name": "stdout",
     "output_type": "stream",
     "text": [
      "60.9551009979612\n"
     ]
    }
   ],
   "source": [
    "print(m_life_expect.mean())"
   ]
  },
  {
   "cell_type": "code",
   "execution_count": 22,
   "metadata": {},
   "outputs": [
    {
     "name": "stdout",
     "output_type": "stream",
     "text": [
      "16.926225817128177\n"
     ]
    }
   ],
   "source": [
    "print(m_life_expect.max() - m_life_expect.min())"
   ]
  },
  {
   "cell_type": "code",
   "execution_count": 23,
   "metadata": {},
   "outputs": [
    {
     "data": {
      "text/plain": [
       "Text(0,0.5,'Age')"
      ]
     },
     "execution_count": 23,
     "metadata": {},
     "output_type": "execute_result"
    },
    {
     "data": {
      "image/png": "[encoded data removed]",
      "text/plain": [
       "<Figure size 432x288 with 1 Axes>"
      ]
     },
     "metadata": {
      "needs_background": "light"
     },
     "output_type": "display_data"
    }
   ],
   "source": [
    "m_life_expect.plot()\n",
    "plt.title('Life Expectancy of Men 1960-2013')\n",
    "plt.xlabel('Year')\n",
    "plt.ylabel('Age')"
   ]
  },
  {
   "cell_type": "code",
   "execution_count": 24,
   "metadata": {},
   "outputs": [],
   "source": [
    "female_subset = df[df['indicator_name'] == 'Life expectancy at birth, female (years)']"
   ]
  },
  {
   "cell_type": "code",
   "execution_count": 25,
   "metadata": {},
   "outputs": [
    {
     "data": {
      "text/plain": [
       "pandas.core.frame.DataFrame"
      ]
     },
     "execution_count": 25,
     "metadata": {},
     "output_type": "execute_result"
    }
   ],
   "source": [
    "type(female_subset)"
   ]
  },
  {
   "cell_type": "code",
   "execution_count": 26,
   "metadata": {},
   "outputs": [
    {
     "data": {
      "text/html": [
       "<div>\n",
       "<style scoped>\n",
       "    .dataframe tbody tr th:only-of-type {\n",
       "        vertical-align: middle;\n",
       "    }\n",
       "\n",
       "    .dataframe tbody tr th {\n",
       "        vertical-align: top;\n",
       "    }\n",
       "\n",
       "    .dataframe thead th {\n",
       "        text-align: right;\n",
       "    }\n",
       "</style>\n",
       "<table border=\"1\" class=\"dataframe\">\n",
       "  <thead>\n",
       "    <tr style=\"text-align: right;\">\n",
       "      <th></th>\n",
       "      <th>country_code</th>\n",
       "      <th>indicator_name</th>\n",
       "      <th>indicator_code</th>\n",
       "      <th>Year</th>\n",
       "      <th>Value</th>\n",
       "    </tr>\n",
       "    <tr>\n",
       "      <th>Country</th>\n",
       "      <th></th>\n",
       "      <th></th>\n",
       "      <th></th>\n",
       "      <th></th>\n",
       "      <th></th>\n",
       "    </tr>\n",
       "  </thead>\n",
       "  <tbody>\n",
       "    <tr>\n",
       "      <th>Arab World</th>\n",
       "      <td>ARB</td>\n",
       "      <td>Life expectancy at birth, female (years)</td>\n",
       "      <td>SP.DYN.LE00.FE.IN</td>\n",
       "      <td>1960</td>\n",
       "      <td>47.883246</td>\n",
       "    </tr>\n",
       "    <tr>\n",
       "      <th>Caribbean small states</th>\n",
       "      <td>CSS</td>\n",
       "      <td>Life expectancy at birth, female (years)</td>\n",
       "      <td>SP.DYN.LE00.FE.IN</td>\n",
       "      <td>1960</td>\n",
       "      <td>64.307102</td>\n",
       "    </tr>\n",
       "    <tr>\n",
       "      <th>Central Europe and the Baltics</th>\n",
       "      <td>CEB</td>\n",
       "      <td>Life expectancy at birth, female (years)</td>\n",
       "      <td>SP.DYN.LE00.FE.IN</td>\n",
       "      <td>1960</td>\n",
       "      <td>70.367730</td>\n",
       "    </tr>\n",
       "    <tr>\n",
       "      <th>East Asia &amp; Pacific (all income levels)</th>\n",
       "      <td>EAS</td>\n",
       "      <td>Life expectancy at birth, female (years)</td>\n",
       "      <td>SP.DYN.LE00.FE.IN</td>\n",
       "      <td>1960</td>\n",
       "      <td>50.112757</td>\n",
       "    </tr>\n",
       "    <tr>\n",
       "      <th>East Asia &amp; Pacific (developing only)</th>\n",
       "      <td>EAP</td>\n",
       "      <td>Life expectancy at birth, female (years)</td>\n",
       "      <td>SP.DYN.LE00.FE.IN</td>\n",
       "      <td>1960</td>\n",
       "      <td>47.359607</td>\n",
       "    </tr>\n",
       "    <tr>\n",
       "      <th>Euro area</th>\n",
       "      <td>EMU</td>\n",
       "      <td>Life expectancy at birth, female (years)</td>\n",
       "      <td>SP.DYN.LE00.FE.IN</td>\n",
       "      <td>1960</td>\n",
       "      <td>72.063254</td>\n",
       "    </tr>\n",
       "    <tr>\n",
       "      <th>Europe &amp; Central Asia (all income levels)</th>\n",
       "      <td>ECS</td>\n",
       "      <td>Life expectancy at birth, female (years)</td>\n",
       "      <td>SP.DYN.LE00.FE.IN</td>\n",
       "      <td>1960</td>\n",
       "      <td>70.140307</td>\n",
       "    </tr>\n",
       "    <tr>\n",
       "      <th>Europe &amp; Central Asia (developing only)</th>\n",
       "      <td>ECA</td>\n",
       "      <td>Life expectancy at birth, female (years)</td>\n",
       "      <td>SP.DYN.LE00.FE.IN</td>\n",
       "      <td>1960</td>\n",
       "      <td>64.370973</td>\n",
       "    </tr>\n",
       "    <tr>\n",
       "      <th>European Union</th>\n",
       "      <td>EUU</td>\n",
       "      <td>Life expectancy at birth, female (years)</td>\n",
       "      <td>SP.DYN.LE00.FE.IN</td>\n",
       "      <td>1960</td>\n",
       "      <td>72.015095</td>\n",
       "    </tr>\n",
       "    <tr>\n",
       "      <th>Fragile and conflict affected situations</th>\n",
       "      <td>FCS</td>\n",
       "      <td>Life expectancy at birth, female (years)</td>\n",
       "      <td>SP.DYN.LE00.FE.IN</td>\n",
       "      <td>1960</td>\n",
       "      <td>42.935871</td>\n",
       "    </tr>\n",
       "  </tbody>\n",
       "</table>\n",
       "</div>"
      ],
      "text/plain": [
       "                                          country_code  \\\n",
       "Country                                                  \n",
       "Arab World                                         ARB   \n",
       "Caribbean small states                             CSS   \n",
       "Central Europe and the Baltics                     CEB   \n",
       "East Asia & Pacific (all income levels)            EAS   \n",
       "East Asia & Pacific (developing only)              EAP   \n",
       "Euro area                                          EMU   \n",
       "Europe & Central Asia (all income levels)          ECS   \n",
       "Europe & Central Asia (developing only)            ECA   \n",
       "European Union                                     EUU   \n",
       "Fragile and conflict affected situations           FCS   \n",
       "\n",
       "                                                                     indicator_name  \\\n",
       "Country                                                                               \n",
       "Arab World                                 Life expectancy at birth, female (years)   \n",
       "Caribbean small states                     Life expectancy at birth, female (years)   \n",
       "Central Europe and the Baltics             Life expectancy at birth, female (years)   \n",
       "East Asia & Pacific (all income levels)    Life expectancy at birth, female (years)   \n",
       "East Asia & Pacific (developing only)      Life expectancy at birth, female (years)   \n",
       "Euro area                                  Life expectancy at birth, female (years)   \n",
       "Europe & Central Asia (all income levels)  Life expectancy at birth, female (years)   \n",
       "Europe & Central Asia (developing only)    Life expectancy at birth, female (years)   \n",
       "European Union                             Life expectancy at birth, female (years)   \n",
       "Fragile and conflict affected situations   Life expectancy at birth, female (years)   \n",
       "\n",
       "                                              indicator_code  Year      Value  \n",
       "Country                                                                        \n",
       "Arab World                                 SP.DYN.LE00.FE.IN  1960  47.883246  \n",
       "Caribbean small states                     SP.DYN.LE00.FE.IN  1960  64.307102  \n",
       "Central Europe and the Baltics             SP.DYN.LE00.FE.IN  1960  70.367730  \n",
       "East Asia & Pacific (all income levels)    SP.DYN.LE00.FE.IN  1960  50.112757  \n",
       "East Asia & Pacific (developing only)      SP.DYN.LE00.FE.IN  1960  47.359607  \n",
       "Euro area                                  SP.DYN.LE00.FE.IN  1960  72.063254  \n",
       "Europe & Central Asia (all income levels)  SP.DYN.LE00.FE.IN  1960  70.140307  \n",
       "Europe & Central Asia (developing only)    SP.DYN.LE00.FE.IN  1960  64.370973  \n",
       "European Union                             SP.DYN.LE00.FE.IN  1960  72.015095  \n",
       "Fragile and conflict affected situations   SP.DYN.LE00.FE.IN  1960  42.935871  "
      ]
     },
     "execution_count": 26,
     "metadata": {},
     "output_type": "execute_result"
    }
   ],
   "source": [
    "female_subset.head(10)"
   ]
  },
  {
   "cell_type": "code",
   "execution_count": 27,
   "metadata": {},
   "outputs": [],
   "source": [
    "f_life_expect = female_subset.groupby('Year')['Value'].mean()"
   ]
  },
  {
   "cell_type": "code",
   "execution_count": 28,
   "metadata": {},
   "outputs": [
    {
     "data": {
      "text/plain": [
       "pandas.core.series.Series"
      ]
     },
     "execution_count": 28,
     "metadata": {},
     "output_type": "execute_result"
    }
   ],
   "source": [
    "type(f_life_expect)"
   ]
  },
  {
   "cell_type": "code",
   "execution_count": 29,
   "metadata": {},
   "outputs": [
    {
     "data": {
      "text/plain": [
       "Year\n",
       "1960    55.614601\n",
       "1961    56.190940\n",
       "1962    56.594262\n",
       "1963    56.991054\n",
       "1964    57.501386\n",
       "Name: Value, dtype: float64"
      ]
     },
     "execution_count": 29,
     "metadata": {},
     "output_type": "execute_result"
    }
   ],
   "source": [
    "f_life_expect.head()"
   ]
  },
  {
   "cell_type": "code",
   "execution_count": 30,
   "metadata": {},
   "outputs": [
    {
     "data": {
      "text/plain": [
       "Year\n",
       "2009    72.402160\n",
       "2010    72.680307\n",
       "2011    73.079536\n",
       "2012    73.266974\n",
       "2013    73.521484\n",
       "Name: Value, dtype: float64"
      ]
     },
     "execution_count": 30,
     "metadata": {},
     "output_type": "execute_result"
    }
   ],
   "source": [
    "f_life_expect.tail()"
   ]
  },
  {
   "cell_type": "code",
   "execution_count": 31,
   "metadata": {},
   "outputs": [
    {
     "name": "stdout",
     "output_type": "stream",
     "text": [
      "65.5383543812937\n"
     ]
    }
   ],
   "source": [
    "print(f_life_expect.mean())"
   ]
  },
  {
   "cell_type": "code",
   "execution_count": 32,
   "metadata": {},
   "outputs": [
    {
     "name": "stdout",
     "output_type": "stream",
     "text": [
      "17.906883220319173\n"
     ]
    }
   ],
   "source": [
    "print(f_life_expect.max() - f_life_expect.min())"
   ]
  },
  {
   "cell_type": "code",
   "execution_count": 33,
   "metadata": {},
   "outputs": [
    {
     "data": {
      "image/png": "[encoded data removed]",
      "text/plain": [
       "<Figure size 432x288 with 1 Axes>"
      ]
     },
     "metadata": {
      "needs_background": "light"
     },
     "output_type": "display_data"
    }
   ],
   "source": [
    "# plotting the female life expectancy span over the years.\n",
    "f_life_expect.plot()\n",
    "plt.title('Life Expectancy of Women 1960-2013')\n",
    "plt.xlabel('Year')\n",
    "plt.ylabel('Age')\n",
    "plt.savefig(fname='fplot.jpg')"
   ]
  },
  {
   "cell_type": "markdown",
   "metadata": {},
   "source": [
    "## Looking at Life expectancy by region?"
   ]
  },
  {
   "cell_type": "code",
   "execution_count": 34,
   "metadata": {},
   "outputs": [],
   "source": [
    "arb = df.loc['Arab World']"
   ]
  },
  {
   "cell_type": "code",
   "execution_count": 35,
   "metadata": {},
   "outputs": [
    {
     "data": {
      "text/html": [
       "<div>\n",
       "<style scoped>\n",
       "    .dataframe tbody tr th:only-of-type {\n",
       "        vertical-align: middle;\n",
       "    }\n",
       "\n",
       "    .dataframe tbody tr th {\n",
       "        vertical-align: top;\n",
       "    }\n",
       "\n",
       "    .dataframe thead th {\n",
       "        text-align: right;\n",
       "    }\n",
       "</style>\n",
       "<table border=\"1\" class=\"dataframe\">\n",
       "  <thead>\n",
       "    <tr style=\"text-align: right;\">\n",
       "      <th></th>\n",
       "      <th>country_code</th>\n",
       "      <th>indicator_name</th>\n",
       "      <th>indicator_code</th>\n",
       "      <th>Year</th>\n",
       "      <th>Value</th>\n",
       "    </tr>\n",
       "    <tr>\n",
       "      <th>Country</th>\n",
       "      <th></th>\n",
       "      <th></th>\n",
       "      <th></th>\n",
       "      <th></th>\n",
       "      <th></th>\n",
       "    </tr>\n",
       "  </thead>\n",
       "  <tbody>\n",
       "    <tr>\n",
       "      <th>Arab World</th>\n",
       "      <td>ARB</td>\n",
       "      <td>Adolescent fertility rate (births per 1,000 wo...</td>\n",
       "      <td>SP.ADO.TFRT</td>\n",
       "      <td>1960</td>\n",
       "      <td>1.335609e+02</td>\n",
       "    </tr>\n",
       "    <tr>\n",
       "      <th>Arab World</th>\n",
       "      <td>ARB</td>\n",
       "      <td>Age dependency ratio (% of working-age populat...</td>\n",
       "      <td>SP.POP.DPND</td>\n",
       "      <td>1960</td>\n",
       "      <td>8.779760e+01</td>\n",
       "    </tr>\n",
       "    <tr>\n",
       "      <th>Arab World</th>\n",
       "      <td>ARB</td>\n",
       "      <td>Age dependency ratio, old (% of working-age po...</td>\n",
       "      <td>SP.POP.DPND.OL</td>\n",
       "      <td>1960</td>\n",
       "      <td>6.634579e+00</td>\n",
       "    </tr>\n",
       "    <tr>\n",
       "      <th>Arab World</th>\n",
       "      <td>ARB</td>\n",
       "      <td>Age dependency ratio, young (% of working-age ...</td>\n",
       "      <td>SP.POP.DPND.YG</td>\n",
       "      <td>1960</td>\n",
       "      <td>8.102333e+01</td>\n",
       "    </tr>\n",
       "    <tr>\n",
       "      <th>Arab World</th>\n",
       "      <td>ARB</td>\n",
       "      <td>Arms exports (SIPRI trend indicator values)</td>\n",
       "      <td>MS.MIL.XPRT.KD</td>\n",
       "      <td>1960</td>\n",
       "      <td>3.000000e+06</td>\n",
       "    </tr>\n",
       "  </tbody>\n",
       "</table>\n",
       "</div>"
      ],
      "text/plain": [
       "           country_code                                     indicator_name  \\\n",
       "Country                                                                      \n",
       "Arab World          ARB  Adolescent fertility rate (births per 1,000 wo...   \n",
       "Arab World          ARB  Age dependency ratio (% of working-age populat...   \n",
       "Arab World          ARB  Age dependency ratio, old (% of working-age po...   \n",
       "Arab World          ARB  Age dependency ratio, young (% of working-age ...   \n",
       "Arab World          ARB        Arms exports (SIPRI trend indicator values)   \n",
       "\n",
       "            indicator_code  Year         Value  \n",
       "Country                                         \n",
       "Arab World     SP.ADO.TFRT  1960  1.335609e+02  \n",
       "Arab World     SP.POP.DPND  1960  8.779760e+01  \n",
       "Arab World  SP.POP.DPND.OL  1960  6.634579e+00  \n",
       "Arab World  SP.POP.DPND.YG  1960  8.102333e+01  \n",
       "Arab World  MS.MIL.XPRT.KD  1960  3.000000e+06  "
      ]
     },
     "execution_count": 35,
     "metadata": {},
     "output_type": "execute_result"
    }
   ],
   "source": [
    "arb.head()"
   ]
  },
  {
   "cell_type": "code",
   "execution_count": 36,
   "metadata": {},
   "outputs": [
    {
     "data": {
      "text/html": [
       "<div>\n",
       "<style scoped>\n",
       "    .dataframe tbody tr th:only-of-type {\n",
       "        vertical-align: middle;\n",
       "    }\n",
       "\n",
       "    .dataframe tbody tr th {\n",
       "        vertical-align: top;\n",
       "    }\n",
       "\n",
       "    .dataframe thead th {\n",
       "        text-align: right;\n",
       "    }\n",
       "</style>\n",
       "<table border=\"1\" class=\"dataframe\">\n",
       "  <thead>\n",
       "    <tr style=\"text-align: right;\">\n",
       "      <th></th>\n",
       "      <th>country_code</th>\n",
       "      <th>indicator_name</th>\n",
       "      <th>indicator_code</th>\n",
       "      <th>Year</th>\n",
       "      <th>Value</th>\n",
       "    </tr>\n",
       "    <tr>\n",
       "      <th>Country</th>\n",
       "      <th></th>\n",
       "      <th></th>\n",
       "      <th></th>\n",
       "      <th></th>\n",
       "      <th></th>\n",
       "    </tr>\n",
       "  </thead>\n",
       "  <tbody>\n",
       "    <tr>\n",
       "      <th>Arab World</th>\n",
       "      <td>ARB</td>\n",
       "      <td>Life expectancy at birth, male (years)</td>\n",
       "      <td>SP.DYN.LE00.MA.IN</td>\n",
       "      <td>1960</td>\n",
       "      <td>45.862949</td>\n",
       "    </tr>\n",
       "    <tr>\n",
       "      <th>Caribbean small states</th>\n",
       "      <td>CSS</td>\n",
       "      <td>Life expectancy at birth, male (years)</td>\n",
       "      <td>SP.DYN.LE00.MA.IN</td>\n",
       "      <td>1960</td>\n",
       "      <td>60.336875</td>\n",
       "    </tr>\n",
       "    <tr>\n",
       "      <th>Central Europe and the Baltics</th>\n",
       "      <td>CEB</td>\n",
       "      <td>Life expectancy at birth, male (years)</td>\n",
       "      <td>SP.DYN.LE00.MA.IN</td>\n",
       "      <td>1960</td>\n",
       "      <td>65.415992</td>\n",
       "    </tr>\n",
       "    <tr>\n",
       "      <th>East Asia &amp; Pacific (all income levels)</th>\n",
       "      <td>EAS</td>\n",
       "      <td>Life expectancy at birth, male (years)</td>\n",
       "      <td>SP.DYN.LE00.MA.IN</td>\n",
       "      <td>1960</td>\n",
       "      <td>46.246988</td>\n",
       "    </tr>\n",
       "    <tr>\n",
       "      <th>East Asia &amp; Pacific (developing only)</th>\n",
       "      <td>EAP</td>\n",
       "      <td>Life expectancy at birth, male (years)</td>\n",
       "      <td>SP.DYN.LE00.MA.IN</td>\n",
       "      <td>1960</td>\n",
       "      <td>43.834952</td>\n",
       "    </tr>\n",
       "    <tr>\n",
       "      <th>Euro area</th>\n",
       "      <td>EMU</td>\n",
       "      <td>Life expectancy at birth, male (years)</td>\n",
       "      <td>SP.DYN.LE00.MA.IN</td>\n",
       "      <td>1960</td>\n",
       "      <td>66.622025</td>\n",
       "    </tr>\n",
       "    <tr>\n",
       "      <th>Europe &amp; Central Asia (all income levels)</th>\n",
       "      <td>ECS</td>\n",
       "      <td>Life expectancy at birth, male (years)</td>\n",
       "      <td>SP.DYN.LE00.MA.IN</td>\n",
       "      <td>1960</td>\n",
       "      <td>64.094735</td>\n",
       "    </tr>\n",
       "    <tr>\n",
       "      <th>Europe &amp; Central Asia (developing only)</th>\n",
       "      <td>ECA</td>\n",
       "      <td>Life expectancy at birth, male (years)</td>\n",
       "      <td>SP.DYN.LE00.MA.IN</td>\n",
       "      <td>1960</td>\n",
       "      <td>58.174095</td>\n",
       "    </tr>\n",
       "    <tr>\n",
       "      <th>European Union</th>\n",
       "      <td>EUU</td>\n",
       "      <td>Life expectancy at birth, male (years)</td>\n",
       "      <td>SP.DYN.LE00.MA.IN</td>\n",
       "      <td>1960</td>\n",
       "      <td>66.681393</td>\n",
       "    </tr>\n",
       "    <tr>\n",
       "      <th>Fragile and conflict affected situations</th>\n",
       "      <td>FCS</td>\n",
       "      <td>Life expectancy at birth, male (years)</td>\n",
       "      <td>SP.DYN.LE00.MA.IN</td>\n",
       "      <td>1960</td>\n",
       "      <td>39.980194</td>\n",
       "    </tr>\n",
       "    <tr>\n",
       "      <th>Heavily indebted poor countries (HIPC)</th>\n",
       "      <td>HPC</td>\n",
       "      <td>Life expectancy at birth, male (years)</td>\n",
       "      <td>SP.DYN.LE00.MA.IN</td>\n",
       "      <td>1960</td>\n",
       "      <td>38.330512</td>\n",
       "    </tr>\n",
       "    <tr>\n",
       "      <th>High income</th>\n",
       "      <td>HIC</td>\n",
       "      <td>Life expectancy at birth, male (years)</td>\n",
       "      <td>SP.DYN.LE00.MA.IN</td>\n",
       "      <td>1960</td>\n",
       "      <td>65.139558</td>\n",
       "    </tr>\n",
       "    <tr>\n",
       "      <th>High income: nonOECD</th>\n",
       "      <td>NOC</td>\n",
       "      <td>Life expectancy at birth, male (years)</td>\n",
       "      <td>SP.DYN.LE00.MA.IN</td>\n",
       "      <td>1960</td>\n",
       "      <td>61.555902</td>\n",
       "    </tr>\n",
       "    <tr>\n",
       "      <th>High income: OECD</th>\n",
       "      <td>OEC</td>\n",
       "      <td>Life expectancy at birth, male (years)</td>\n",
       "      <td>SP.DYN.LE00.MA.IN</td>\n",
       "      <td>1960</td>\n",
       "      <td>65.972446</td>\n",
       "    </tr>\n",
       "    <tr>\n",
       "      <th>Latin America &amp; Caribbean (all income levels)</th>\n",
       "      <td>LCN</td>\n",
       "      <td>Life expectancy at birth, male (years)</td>\n",
       "      <td>SP.DYN.LE00.MA.IN</td>\n",
       "      <td>1960</td>\n",
       "      <td>54.198316</td>\n",
       "    </tr>\n",
       "    <tr>\n",
       "      <th>Latin America &amp; Caribbean (developing only)</th>\n",
       "      <td>LAC</td>\n",
       "      <td>Life expectancy at birth, male (years)</td>\n",
       "      <td>SP.DYN.LE00.MA.IN</td>\n",
       "      <td>1960</td>\n",
       "      <td>52.680799</td>\n",
       "    </tr>\n",
       "    <tr>\n",
       "      <th>Least developed countries: UN classification</th>\n",
       "      <td>LDC</td>\n",
       "      <td>Life expectancy at birth, male (years)</td>\n",
       "      <td>SP.DYN.LE00.MA.IN</td>\n",
       "      <td>1960</td>\n",
       "      <td>39.099142</td>\n",
       "    </tr>\n",
       "    <tr>\n",
       "      <th>Low &amp; middle income</th>\n",
       "      <td>LMY</td>\n",
       "      <td>Life expectancy at birth, male (years)</td>\n",
       "      <td>SP.DYN.LE00.MA.IN</td>\n",
       "      <td>1960</td>\n",
       "      <td>44.701845</td>\n",
       "    </tr>\n",
       "    <tr>\n",
       "      <th>Low income</th>\n",
       "      <td>LIC</td>\n",
       "      <td>Life expectancy at birth, male (years)</td>\n",
       "      <td>SP.DYN.LE00.MA.IN</td>\n",
       "      <td>1960</td>\n",
       "      <td>37.773406</td>\n",
       "    </tr>\n",
       "    <tr>\n",
       "      <th>Lower middle income</th>\n",
       "      <td>LMC</td>\n",
       "      <td>Life expectancy at birth, male (years)</td>\n",
       "      <td>SP.DYN.LE00.MA.IN</td>\n",
       "      <td>1960</td>\n",
       "      <td>45.041873</td>\n",
       "    </tr>\n",
       "  </tbody>\n",
       "</table>\n",
       "</div>"
      ],
      "text/plain": [
       "                                              country_code  \\\n",
       "Country                                                      \n",
       "Arab World                                             ARB   \n",
       "Caribbean small states                                 CSS   \n",
       "Central Europe and the Baltics                         CEB   \n",
       "East Asia & Pacific (all income levels)                EAS   \n",
       "East Asia & Pacific (developing only)                  EAP   \n",
       "Euro area                                              EMU   \n",
       "Europe & Central Asia (all income levels)              ECS   \n",
       "Europe & Central Asia (developing only)                ECA   \n",
       "European Union                                         EUU   \n",
       "Fragile and conflict affected situations               FCS   \n",
       "Heavily indebted poor countries (HIPC)                 HPC   \n",
       "High income                                            HIC   \n",
       "High income: nonOECD                                   NOC   \n",
       "High income: OECD                                      OEC   \n",
       "Latin America & Caribbean (all income levels)          LCN   \n",
       "Latin America & Caribbean (developing only)            LAC   \n",
       "Least developed countries: UN classification           LDC   \n",
       "Low & middle income                                    LMY   \n",
       "Low income                                             LIC   \n",
       "Lower middle income                                    LMC   \n",
       "\n",
       "                                                                       indicator_name  \\\n",
       "Country                                                                                 \n",
       "Arab World                                     Life expectancy at birth, male (years)   \n",
       "Caribbean small states                         Life expectancy at birth, male (years)   \n",
       "Central Europe and the Baltics                 Life expectancy at birth, male (years)   \n",
       "East Asia & Pacific (all income levels)        Life expectancy at birth, male (years)   \n",
       "East Asia & Pacific (developing only)          Life expectancy at birth, male (years)   \n",
       "Euro area                                      Life expectancy at birth, male (years)   \n",
       "Europe & Central Asia (all income levels)      Life expectancy at birth, male (years)   \n",
       "Europe & Central Asia (developing only)        Life expectancy at birth, male (years)   \n",
       "European Union                                 Life expectancy at birth, male (years)   \n",
       "Fragile and conflict affected situations       Life expectancy at birth, male (years)   \n",
       "Heavily indebted poor countries (HIPC)         Life expectancy at birth, male (years)   \n",
       "High income                                    Life expectancy at birth, male (years)   \n",
       "High income: nonOECD                           Life expectancy at birth, male (years)   \n",
       "High income: OECD                              Life expectancy at birth, male (years)   \n",
       "Latin America & Caribbean (all income levels)  Life expectancy at birth, male (years)   \n",
       "Latin America & Caribbean (developing only)    Life expectancy at birth, male (years)   \n",
       "Least developed countries: UN classification   Life expectancy at birth, male (years)   \n",
       "Low & middle income                            Life expectancy at birth, male (years)   \n",
       "Low income                                     Life expectancy at birth, male (years)   \n",
       "Lower middle income                            Life expectancy at birth, male (years)   \n",
       "\n",
       "                                                  indicator_code  Year  \\\n",
       "Country                                                                  \n",
       "Arab World                                     SP.DYN.LE00.MA.IN  1960   \n",
       "Caribbean small states                         SP.DYN.LE00.MA.IN  1960   \n",
       "Central Europe and the Baltics                 SP.DYN.LE00.MA.IN  1960   \n",
       "East Asia & Pacific (all income levels)        SP.DYN.LE00.MA.IN  1960   \n",
       "East Asia & Pacific (developing only)          SP.DYN.LE00.MA.IN  1960   \n",
       "Euro area                                      SP.DYN.LE00.MA.IN  1960   \n",
       "Europe & Central Asia (all income levels)      SP.DYN.LE00.MA.IN  1960   \n",
       "Europe & Central Asia (developing only)        SP.DYN.LE00.MA.IN  1960   \n",
       "European Union                                 SP.DYN.LE00.MA.IN  1960   \n",
       "Fragile and conflict affected situations       SP.DYN.LE00.MA.IN  1960   \n",
       "Heavily indebted poor countries (HIPC)         SP.DYN.LE00.MA.IN  1960   \n",
       "High income                                    SP.DYN.LE00.MA.IN  1960   \n",
       "High income: nonOECD                           SP.DYN.LE00.MA.IN  1960   \n",
       "High income: OECD                              SP.DYN.LE00.MA.IN  1960   \n",
       "Latin America & Caribbean (all income levels)  SP.DYN.LE00.MA.IN  1960   \n",
       "Latin America & Caribbean (developing only)    SP.DYN.LE00.MA.IN  1960   \n",
       "Least developed countries: UN classification   SP.DYN.LE00.MA.IN  1960   \n",
       "Low & middle income                            SP.DYN.LE00.MA.IN  1960   \n",
       "Low income                                     SP.DYN.LE00.MA.IN  1960   \n",
       "Lower middle income                            SP.DYN.LE00.MA.IN  1960   \n",
       "\n",
       "                                                   Value  \n",
       "Country                                                   \n",
       "Arab World                                     45.862949  \n",
       "Caribbean small states                         60.336875  \n",
       "Central Europe and the Baltics                 65.415992  \n",
       "East Asia & Pacific (all income levels)        46.246988  \n",
       "East Asia & Pacific (developing only)          43.834952  \n",
       "Euro area                                      66.622025  \n",
       "Europe & Central Asia (all income levels)      64.094735  \n",
       "Europe & Central Asia (developing only)        58.174095  \n",
       "European Union                                 66.681393  \n",
       "Fragile and conflict affected situations       39.980194  \n",
       "Heavily indebted poor countries (HIPC)         38.330512  \n",
       "High income                                    65.139558  \n",
       "High income: nonOECD                           61.555902  \n",
       "High income: OECD                              65.972446  \n",
       "Latin America & Caribbean (all income levels)  54.198316  \n",
       "Latin America & Caribbean (developing only)    52.680799  \n",
       "Least developed countries: UN classification   39.099142  \n",
       "Low & middle income                            44.701845  \n",
       "Low income                                     37.773406  \n",
       "Lower middle income                            45.041873  "
      ]
     },
     "execution_count": 36,
     "metadata": {},
     "output_type": "execute_result"
    }
   ],
   "source": [
    "male_subset.head(20)"
   ]
  },
  {
   "cell_type": "code",
   "execution_count": 37,
   "metadata": {},
   "outputs": [],
   "source": [
    "arb = male_subset.loc['Arab World']"
   ]
  },
  {
   "cell_type": "code",
   "execution_count": 38,
   "metadata": {},
   "outputs": [
    {
     "data": {
      "text/plain": [
       "pandas.core.frame.DataFrame"
      ]
     },
     "execution_count": 38,
     "metadata": {},
     "output_type": "execute_result"
    }
   ],
   "source": [
    "type(arb)"
   ]
  },
  {
   "cell_type": "code",
   "execution_count": 39,
   "metadata": {},
   "outputs": [
    {
     "data": {
      "text/html": [
       "<div>\n",
       "<style scoped>\n",
       "    .dataframe tbody tr th:only-of-type {\n",
       "        vertical-align: middle;\n",
       "    }\n",
       "\n",
       "    .dataframe tbody tr th {\n",
       "        vertical-align: top;\n",
       "    }\n",
       "\n",
       "    .dataframe thead th {\n",
       "        text-align: right;\n",
       "    }\n",
       "</style>\n",
       "<table border=\"1\" class=\"dataframe\">\n",
       "  <thead>\n",
       "    <tr style=\"text-align: right;\">\n",
       "      <th></th>\n",
       "      <th>country_code</th>\n",
       "      <th>indicator_name</th>\n",
       "      <th>indicator_code</th>\n",
       "      <th>Year</th>\n",
       "      <th>Value</th>\n",
       "    </tr>\n",
       "    <tr>\n",
       "      <th>Country</th>\n",
       "      <th></th>\n",
       "      <th></th>\n",
       "      <th></th>\n",
       "      <th></th>\n",
       "      <th></th>\n",
       "    </tr>\n",
       "  </thead>\n",
       "  <tbody>\n",
       "    <tr>\n",
       "      <th>Arab World</th>\n",
       "      <td>ARB</td>\n",
       "      <td>Life expectancy at birth, male (years)</td>\n",
       "      <td>SP.DYN.LE00.MA.IN</td>\n",
       "      <td>1960</td>\n",
       "      <td>45.862949</td>\n",
       "    </tr>\n",
       "    <tr>\n",
       "      <th>Arab World</th>\n",
       "      <td>ARB</td>\n",
       "      <td>Life expectancy at birth, male (years)</td>\n",
       "      <td>SP.DYN.LE00.MA.IN</td>\n",
       "      <td>1961</td>\n",
       "      <td>46.445431</td>\n",
       "    </tr>\n",
       "    <tr>\n",
       "      <th>Arab World</th>\n",
       "      <td>ARB</td>\n",
       "      <td>Life expectancy at birth, male (years)</td>\n",
       "      <td>SP.DYN.LE00.MA.IN</td>\n",
       "      <td>1962</td>\n",
       "      <td>47.022175</td>\n",
       "    </tr>\n",
       "    <tr>\n",
       "      <th>Arab World</th>\n",
       "      <td>ARB</td>\n",
       "      <td>Life expectancy at birth, male (years)</td>\n",
       "      <td>SP.DYN.LE00.MA.IN</td>\n",
       "      <td>1963</td>\n",
       "      <td>47.595678</td>\n",
       "    </tr>\n",
       "    <tr>\n",
       "      <th>Arab World</th>\n",
       "      <td>ARB</td>\n",
       "      <td>Life expectancy at birth, male (years)</td>\n",
       "      <td>SP.DYN.LE00.MA.IN</td>\n",
       "      <td>1964</td>\n",
       "      <td>48.165251</td>\n",
       "    </tr>\n",
       "  </tbody>\n",
       "</table>\n",
       "</div>"
      ],
      "text/plain": [
       "           country_code                          indicator_name  \\\n",
       "Country                                                           \n",
       "Arab World          ARB  Life expectancy at birth, male (years)   \n",
       "Arab World          ARB  Life expectancy at birth, male (years)   \n",
       "Arab World          ARB  Life expectancy at birth, male (years)   \n",
       "Arab World          ARB  Life expectancy at birth, male (years)   \n",
       "Arab World          ARB  Life expectancy at birth, male (years)   \n",
       "\n",
       "               indicator_code  Year      Value  \n",
       "Country                                         \n",
       "Arab World  SP.DYN.LE00.MA.IN  1960  45.862949  \n",
       "Arab World  SP.DYN.LE00.MA.IN  1961  46.445431  \n",
       "Arab World  SP.DYN.LE00.MA.IN  1962  47.022175  \n",
       "Arab World  SP.DYN.LE00.MA.IN  1963  47.595678  \n",
       "Arab World  SP.DYN.LE00.MA.IN  1964  48.165251  "
      ]
     },
     "execution_count": 39,
     "metadata": {},
     "output_type": "execute_result"
    }
   ],
   "source": [
    "arb.head()"
   ]
  },
  {
   "cell_type": "markdown",
   "metadata": {},
   "source": [
    "We already had looked at the life expectancy at birth ofr different genders and had already gotten their difference from the max and the min, therefore, we didn't need to do anything further in terms of subsetting. We could just simply take the different loc indexes for the region and just look at the differences individually."
   ]
  },
  {
   "cell_type": "code",
   "execution_count": 40,
   "metadata": {},
   "outputs": [
    {
     "data": {
      "text/plain": [
       "Text(0,0.5,'Count')"
      ]
     },
     "execution_count": 40,
     "metadata": {},
     "output_type": "execute_result"
    },
    {
     "data": {
      "image/png": "[encoded data removed]",
      "text/plain": [
       "<Figure size 432x288 with 1 Axes>"
      ]
     },
     "metadata": {
      "needs_background": "light"
     },
     "output_type": "display_data"
    }
   ],
   "source": [
    "arb['Value'].hist()\n",
    "#sns.kdeplot(arb['Value'])\n",
    "#sns.distplot(arb['Value'])\n",
    "plt.title('Frequency distribution of Male life expectancy')\n",
    "plt.xlabel('Age')\n",
    "plt.ylabel('Count')"
   ]
  },
  {
   "cell_type": "code",
   "execution_count": 41,
   "metadata": {},
   "outputs": [
    {
     "name": "stderr",
     "output_type": "stream",
     "text": [
      "C:\\Users\\Sairam\\Anaconda3\\lib\\site-packages\\scipy\\stats\\stats.py:1713: FutureWarning: Using a non-tuple sequence for multidimensional indexing is deprecated; use `arr[tuple(seq)]` instead of `arr[seq]`. In the future this will be interpreted as an array index, `arr[np.array(seq)]`, which will result either in an error or a different result.\n",
      "  return np.add.reduce(sorted[indexer] * weights, axis=axis) / sumval\n"
     ]
    },
    {
     "data": {
      "text/plain": [
       "<matplotlib.axes._subplots.AxesSubplot at 0x177003cbe80>"
      ]
     },
     "execution_count": 41,
     "metadata": {},
     "output_type": "execute_result"
    },
    {
     "data": {
      "image/png": "[encoded data removed]",
      "text/plain": [
       "<Figure size 432x288 with 1 Axes>"
      ]
     },
     "metadata": {
      "needs_background": "light"
     },
     "output_type": "display_data"
    }
   ],
   "source": [
    "sns.distplot(arb['Value'])"
   ]
  },
  {
   "cell_type": "code",
   "execution_count": 42,
   "metadata": {},
   "outputs": [],
   "source": [
    "eu = male_subset.loc['European Union']"
   ]
  },
  {
   "cell_type": "code",
   "execution_count": 43,
   "metadata": {},
   "outputs": [
    {
     "data": {
      "text/html": [
       "<div>\n",
       "<style scoped>\n",
       "    .dataframe tbody tr th:only-of-type {\n",
       "        vertical-align: middle;\n",
       "    }\n",
       "\n",
       "    .dataframe tbody tr th {\n",
       "        vertical-align: top;\n",
       "    }\n",
       "\n",
       "    .dataframe thead th {\n",
       "        text-align: right;\n",
       "    }\n",
       "</style>\n",
       "<table border=\"1\" class=\"dataframe\">\n",
       "  <thead>\n",
       "    <tr style=\"text-align: right;\">\n",
       "      <th></th>\n",
       "      <th>country_code</th>\n",
       "      <th>indicator_name</th>\n",
       "      <th>indicator_code</th>\n",
       "      <th>Year</th>\n",
       "      <th>Value</th>\n",
       "    </tr>\n",
       "    <tr>\n",
       "      <th>Country</th>\n",
       "      <th></th>\n",
       "      <th></th>\n",
       "      <th></th>\n",
       "      <th></th>\n",
       "      <th></th>\n",
       "    </tr>\n",
       "  </thead>\n",
       "  <tbody>\n",
       "    <tr>\n",
       "      <th>European Union</th>\n",
       "      <td>EUU</td>\n",
       "      <td>Life expectancy at birth, male (years)</td>\n",
       "      <td>SP.DYN.LE00.MA.IN</td>\n",
       "      <td>1960</td>\n",
       "      <td>66.681393</td>\n",
       "    </tr>\n",
       "    <tr>\n",
       "      <th>European Union</th>\n",
       "      <td>EUU</td>\n",
       "      <td>Life expectancy at birth, male (years)</td>\n",
       "      <td>SP.DYN.LE00.MA.IN</td>\n",
       "      <td>1961</td>\n",
       "      <td>66.945137</td>\n",
       "    </tr>\n",
       "    <tr>\n",
       "      <th>European Union</th>\n",
       "      <td>EUU</td>\n",
       "      <td>Life expectancy at birth, male (years)</td>\n",
       "      <td>SP.DYN.LE00.MA.IN</td>\n",
       "      <td>1962</td>\n",
       "      <td>66.821944</td>\n",
       "    </tr>\n",
       "    <tr>\n",
       "      <th>European Union</th>\n",
       "      <td>EUU</td>\n",
       "      <td>Life expectancy at birth, male (years)</td>\n",
       "      <td>SP.DYN.LE00.MA.IN</td>\n",
       "      <td>1963</td>\n",
       "      <td>67.022577</td>\n",
       "    </tr>\n",
       "    <tr>\n",
       "      <th>European Union</th>\n",
       "      <td>EUU</td>\n",
       "      <td>Life expectancy at birth, male (years)</td>\n",
       "      <td>SP.DYN.LE00.MA.IN</td>\n",
       "      <td>1964</td>\n",
       "      <td>67.441720</td>\n",
       "    </tr>\n",
       "  </tbody>\n",
       "</table>\n",
       "</div>"
      ],
      "text/plain": [
       "               country_code                          indicator_name  \\\n",
       "Country                                                               \n",
       "European Union          EUU  Life expectancy at birth, male (years)   \n",
       "European Union          EUU  Life expectancy at birth, male (years)   \n",
       "European Union          EUU  Life expectancy at birth, male (years)   \n",
       "European Union          EUU  Life expectancy at birth, male (years)   \n",
       "European Union          EUU  Life expectancy at birth, male (years)   \n",
       "\n",
       "                   indicator_code  Year      Value  \n",
       "Country                                             \n",
       "European Union  SP.DYN.LE00.MA.IN  1960  66.681393  \n",
       "European Union  SP.DYN.LE00.MA.IN  1961  66.945137  \n",
       "European Union  SP.DYN.LE00.MA.IN  1962  66.821944  \n",
       "European Union  SP.DYN.LE00.MA.IN  1963  67.022577  \n",
       "European Union  SP.DYN.LE00.MA.IN  1964  67.441720  "
      ]
     },
     "execution_count": 43,
     "metadata": {},
     "output_type": "execute_result"
    }
   ],
   "source": [
    "eu.head()"
   ]
  },
  {
   "cell_type": "code",
   "execution_count": 44,
   "metadata": {},
   "outputs": [
    {
     "data": {
      "text/plain": [
       "<matplotlib.axes._subplots.AxesSubplot at 0x1770045fef0>"
      ]
     },
     "execution_count": 44,
     "metadata": {},
     "output_type": "execute_result"
    },
    {
     "data": {
      "image/png": "[encoded data removed]",
      "text/plain": [
       "<Figure size 432x288 with 1 Axes>"
      ]
     },
     "metadata": {
      "needs_background": "light"
     },
     "output_type": "display_data"
    }
   ],
   "source": [
    "eu['Value'].hist()\n",
    "#sns.distplot(eu['Value'])"
   ]
  },
  {
   "cell_type": "code",
   "execution_count": 45,
   "metadata": {},
   "outputs": [
    {
     "name": "stderr",
     "output_type": "stream",
     "text": [
      "C:\\Users\\Sairam\\Anaconda3\\lib\\site-packages\\scipy\\stats\\stats.py:1713: FutureWarning: Using a non-tuple sequence for multidimensional indexing is deprecated; use `arr[tuple(seq)]` instead of `arr[seq]`. In the future this will be interpreted as an array index, `arr[np.array(seq)]`, which will result either in an error or a different result.\n",
      "  return np.add.reduce(sorted[indexer] * weights, axis=axis) / sumval\n"
     ]
    },
    {
     "data": {
      "text/plain": [
       "<matplotlib.axes._subplots.AxesSubplot at 0x17700376b38>"
      ]
     },
     "execution_count": 45,
     "metadata": {},
     "output_type": "execute_result"
    },
    {
     "data": {
      "image/png": "[encoded data removed]",
      "text/plain": [
       "<Figure size 432x288 with 1 Axes>"
      ]
     },
     "metadata": {
      "needs_background": "light"
     },
     "output_type": "display_data"
    }
   ],
   "source": [
    "sns.distplot(eu['Value'])"
   ]
  },
  {
   "cell_type": "code",
   "execution_count": 46,
   "metadata": {},
   "outputs": [],
   "source": [
    "developing = male_subset.loc['East Asia & Pacific (developing only)']"
   ]
  },
  {
   "cell_type": "code",
   "execution_count": 47,
   "metadata": {},
   "outputs": [
    {
     "data": {
      "text/html": [
       "<div>\n",
       "<style scoped>\n",
       "    .dataframe tbody tr th:only-of-type {\n",
       "        vertical-align: middle;\n",
       "    }\n",
       "\n",
       "    .dataframe tbody tr th {\n",
       "        vertical-align: top;\n",
       "    }\n",
       "\n",
       "    .dataframe thead th {\n",
       "        text-align: right;\n",
       "    }\n",
       "</style>\n",
       "<table border=\"1\" class=\"dataframe\">\n",
       "  <thead>\n",
       "    <tr style=\"text-align: right;\">\n",
       "      <th></th>\n",
       "      <th>country_code</th>\n",
       "      <th>indicator_name</th>\n",
       "      <th>indicator_code</th>\n",
       "      <th>Year</th>\n",
       "      <th>Value</th>\n",
       "    </tr>\n",
       "    <tr>\n",
       "      <th>Country</th>\n",
       "      <th></th>\n",
       "      <th></th>\n",
       "      <th></th>\n",
       "      <th></th>\n",
       "      <th></th>\n",
       "    </tr>\n",
       "  </thead>\n",
       "  <tbody>\n",
       "    <tr>\n",
       "      <th>East Asia &amp; Pacific (developing only)</th>\n",
       "      <td>EAP</td>\n",
       "      <td>Life expectancy at birth, male (years)</td>\n",
       "      <td>SP.DYN.LE00.MA.IN</td>\n",
       "      <td>1960</td>\n",
       "      <td>43.834952</td>\n",
       "    </tr>\n",
       "    <tr>\n",
       "      <th>East Asia &amp; Pacific (developing only)</th>\n",
       "      <td>EAP</td>\n",
       "      <td>Life expectancy at birth, male (years)</td>\n",
       "      <td>SP.DYN.LE00.MA.IN</td>\n",
       "      <td>1961</td>\n",
       "      <td>44.116342</td>\n",
       "    </tr>\n",
       "    <tr>\n",
       "      <th>East Asia &amp; Pacific (developing only)</th>\n",
       "      <td>EAP</td>\n",
       "      <td>Life expectancy at birth, male (years)</td>\n",
       "      <td>SP.DYN.LE00.MA.IN</td>\n",
       "      <td>1962</td>\n",
       "      <td>44.932259</td>\n",
       "    </tr>\n",
       "    <tr>\n",
       "      <th>East Asia &amp; Pacific (developing only)</th>\n",
       "      <td>EAP</td>\n",
       "      <td>Life expectancy at birth, male (years)</td>\n",
       "      <td>SP.DYN.LE00.MA.IN</td>\n",
       "      <td>1963</td>\n",
       "      <td>46.346666</td>\n",
       "    </tr>\n",
       "    <tr>\n",
       "      <th>East Asia &amp; Pacific (developing only)</th>\n",
       "      <td>EAP</td>\n",
       "      <td>Life expectancy at birth, male (years)</td>\n",
       "      <td>SP.DYN.LE00.MA.IN</td>\n",
       "      <td>1964</td>\n",
       "      <td>48.332509</td>\n",
       "    </tr>\n",
       "  </tbody>\n",
       "</table>\n",
       "</div>"
      ],
      "text/plain": [
       "                                      country_code  \\\n",
       "Country                                              \n",
       "East Asia & Pacific (developing only)          EAP   \n",
       "East Asia & Pacific (developing only)          EAP   \n",
       "East Asia & Pacific (developing only)          EAP   \n",
       "East Asia & Pacific (developing only)          EAP   \n",
       "East Asia & Pacific (developing only)          EAP   \n",
       "\n",
       "                                                               indicator_name  \\\n",
       "Country                                                                         \n",
       "East Asia & Pacific (developing only)  Life expectancy at birth, male (years)   \n",
       "East Asia & Pacific (developing only)  Life expectancy at birth, male (years)   \n",
       "East Asia & Pacific (developing only)  Life expectancy at birth, male (years)   \n",
       "East Asia & Pacific (developing only)  Life expectancy at birth, male (years)   \n",
       "East Asia & Pacific (developing only)  Life expectancy at birth, male (years)   \n",
       "\n",
       "                                          indicator_code  Year      Value  \n",
       "Country                                                                    \n",
       "East Asia & Pacific (developing only)  SP.DYN.LE00.MA.IN  1960  43.834952  \n",
       "East Asia & Pacific (developing only)  SP.DYN.LE00.MA.IN  1961  44.116342  \n",
       "East Asia & Pacific (developing only)  SP.DYN.LE00.MA.IN  1962  44.932259  \n",
       "East Asia & Pacific (developing only)  SP.DYN.LE00.MA.IN  1963  46.346666  \n",
       "East Asia & Pacific (developing only)  SP.DYN.LE00.MA.IN  1964  48.332509  "
      ]
     },
     "execution_count": 47,
     "metadata": {},
     "output_type": "execute_result"
    }
   ],
   "source": [
    "developing.head()"
   ]
  },
  {
   "cell_type": "code",
   "execution_count": 48,
   "metadata": {},
   "outputs": [
    {
     "data": {
      "text/plain": [
       "<matplotlib.axes._subplots.AxesSubplot at 0x17700362a58>"
      ]
     },
     "execution_count": 48,
     "metadata": {},
     "output_type": "execute_result"
    },
    {
     "data": {
      "image/png": "[encoded data removed]",
      "text/plain": [
       "<Figure size 432x288 with 1 Axes>"
      ]
     },
     "metadata": {
      "needs_background": "light"
     },
     "output_type": "display_data"
    }
   ],
   "source": [
    "developing['Value'].hist()"
   ]
  },
  {
   "cell_type": "code",
   "execution_count": 49,
   "metadata": {},
   "outputs": [
    {
     "data": {
      "text/html": [
       "<div>\n",
       "<style scoped>\n",
       "    .dataframe tbody tr th:only-of-type {\n",
       "        vertical-align: middle;\n",
       "    }\n",
       "\n",
       "    .dataframe tbody tr th {\n",
       "        vertical-align: top;\n",
       "    }\n",
       "\n",
       "    .dataframe thead th {\n",
       "        text-align: right;\n",
       "    }\n",
       "</style>\n",
       "<table border=\"1\" class=\"dataframe\">\n",
       "  <thead>\n",
       "    <tr style=\"text-align: right;\">\n",
       "      <th></th>\n",
       "      <th>country_code</th>\n",
       "      <th>indicator_name</th>\n",
       "      <th>indicator_code</th>\n",
       "      <th>Year</th>\n",
       "      <th>Value</th>\n",
       "    </tr>\n",
       "    <tr>\n",
       "      <th>Country</th>\n",
       "      <th></th>\n",
       "      <th></th>\n",
       "      <th></th>\n",
       "      <th></th>\n",
       "      <th></th>\n",
       "    </tr>\n",
       "  </thead>\n",
       "  <tbody>\n",
       "    <tr>\n",
       "      <th>Arab World</th>\n",
       "      <td>ARB</td>\n",
       "      <td>Life expectancy at birth, female (years)</td>\n",
       "      <td>SP.DYN.LE00.FE.IN</td>\n",
       "      <td>1960</td>\n",
       "      <td>47.883246</td>\n",
       "    </tr>\n",
       "    <tr>\n",
       "      <th>Caribbean small states</th>\n",
       "      <td>CSS</td>\n",
       "      <td>Life expectancy at birth, female (years)</td>\n",
       "      <td>SP.DYN.LE00.FE.IN</td>\n",
       "      <td>1960</td>\n",
       "      <td>64.307102</td>\n",
       "    </tr>\n",
       "    <tr>\n",
       "      <th>Central Europe and the Baltics</th>\n",
       "      <td>CEB</td>\n",
       "      <td>Life expectancy at birth, female (years)</td>\n",
       "      <td>SP.DYN.LE00.FE.IN</td>\n",
       "      <td>1960</td>\n",
       "      <td>70.367730</td>\n",
       "    </tr>\n",
       "    <tr>\n",
       "      <th>East Asia &amp; Pacific (all income levels)</th>\n",
       "      <td>EAS</td>\n",
       "      <td>Life expectancy at birth, female (years)</td>\n",
       "      <td>SP.DYN.LE00.FE.IN</td>\n",
       "      <td>1960</td>\n",
       "      <td>50.112757</td>\n",
       "    </tr>\n",
       "    <tr>\n",
       "      <th>East Asia &amp; Pacific (developing only)</th>\n",
       "      <td>EAP</td>\n",
       "      <td>Life expectancy at birth, female (years)</td>\n",
       "      <td>SP.DYN.LE00.FE.IN</td>\n",
       "      <td>1960</td>\n",
       "      <td>47.359607</td>\n",
       "    </tr>\n",
       "  </tbody>\n",
       "</table>\n",
       "</div>"
      ],
      "text/plain": [
       "                                        country_code  \\\n",
       "Country                                                \n",
       "Arab World                                       ARB   \n",
       "Caribbean small states                           CSS   \n",
       "Central Europe and the Baltics                   CEB   \n",
       "East Asia & Pacific (all income levels)          EAS   \n",
       "East Asia & Pacific (developing only)            EAP   \n",
       "\n",
       "                                                                   indicator_name  \\\n",
       "Country                                                                             \n",
       "Arab World                               Life expectancy at birth, female (years)   \n",
       "Caribbean small states                   Life expectancy at birth, female (years)   \n",
       "Central Europe and the Baltics           Life expectancy at birth, female (years)   \n",
       "East Asia & Pacific (all income levels)  Life expectancy at birth, female (years)   \n",
       "East Asia & Pacific (developing only)    Life expectancy at birth, female (years)   \n",
       "\n",
       "                                            indicator_code  Year      Value  \n",
       "Country                                                                      \n",
       "Arab World                               SP.DYN.LE00.FE.IN  1960  47.883246  \n",
       "Caribbean small states                   SP.DYN.LE00.FE.IN  1960  64.307102  \n",
       "Central Europe and the Baltics           SP.DYN.LE00.FE.IN  1960  70.367730  \n",
       "East Asia & Pacific (all income levels)  SP.DYN.LE00.FE.IN  1960  50.112757  \n",
       "East Asia & Pacific (developing only)    SP.DYN.LE00.FE.IN  1960  47.359607  "
      ]
     },
     "execution_count": 49,
     "metadata": {},
     "output_type": "execute_result"
    }
   ],
   "source": [
    "female_subset.head()"
   ]
  },
  {
   "cell_type": "code",
   "execution_count": 50,
   "metadata": {},
   "outputs": [],
   "source": [
    "fem_arb = female_subset.loc['Arab World']"
   ]
  },
  {
   "cell_type": "code",
   "execution_count": 51,
   "metadata": {},
   "outputs": [
    {
     "data": {
      "text/html": [
       "<div>\n",
       "<style scoped>\n",
       "    .dataframe tbody tr th:only-of-type {\n",
       "        vertical-align: middle;\n",
       "    }\n",
       "\n",
       "    .dataframe tbody tr th {\n",
       "        vertical-align: top;\n",
       "    }\n",
       "\n",
       "    .dataframe thead th {\n",
       "        text-align: right;\n",
       "    }\n",
       "</style>\n",
       "<table border=\"1\" class=\"dataframe\">\n",
       "  <thead>\n",
       "    <tr style=\"text-align: right;\">\n",
       "      <th></th>\n",
       "      <th>country_code</th>\n",
       "      <th>indicator_name</th>\n",
       "      <th>indicator_code</th>\n",
       "      <th>Year</th>\n",
       "      <th>Value</th>\n",
       "    </tr>\n",
       "    <tr>\n",
       "      <th>Country</th>\n",
       "      <th></th>\n",
       "      <th></th>\n",
       "      <th></th>\n",
       "      <th></th>\n",
       "      <th></th>\n",
       "    </tr>\n",
       "  </thead>\n",
       "  <tbody>\n",
       "    <tr>\n",
       "      <th>Arab World</th>\n",
       "      <td>ARB</td>\n",
       "      <td>Life expectancy at birth, female (years)</td>\n",
       "      <td>SP.DYN.LE00.FE.IN</td>\n",
       "      <td>1960</td>\n",
       "      <td>47.883246</td>\n",
       "    </tr>\n",
       "    <tr>\n",
       "      <th>Arab World</th>\n",
       "      <td>ARB</td>\n",
       "      <td>Life expectancy at birth, female (years)</td>\n",
       "      <td>SP.DYN.LE00.FE.IN</td>\n",
       "      <td>1961</td>\n",
       "      <td>48.461243</td>\n",
       "    </tr>\n",
       "    <tr>\n",
       "      <th>Arab World</th>\n",
       "      <td>ARB</td>\n",
       "      <td>Life expectancy at birth, female (years)</td>\n",
       "      <td>SP.DYN.LE00.FE.IN</td>\n",
       "      <td>1962</td>\n",
       "      <td>49.042932</td>\n",
       "    </tr>\n",
       "    <tr>\n",
       "      <th>Arab World</th>\n",
       "      <td>ARB</td>\n",
       "      <td>Life expectancy at birth, female (years)</td>\n",
       "      <td>SP.DYN.LE00.FE.IN</td>\n",
       "      <td>1963</td>\n",
       "      <td>49.633776</td>\n",
       "    </tr>\n",
       "    <tr>\n",
       "      <th>Arab World</th>\n",
       "      <td>ARB</td>\n",
       "      <td>Life expectancy at birth, female (years)</td>\n",
       "      <td>SP.DYN.LE00.FE.IN</td>\n",
       "      <td>1964</td>\n",
       "      <td>50.234994</td>\n",
       "    </tr>\n",
       "  </tbody>\n",
       "</table>\n",
       "</div>"
      ],
      "text/plain": [
       "           country_code                            indicator_name  \\\n",
       "Country                                                             \n",
       "Arab World          ARB  Life expectancy at birth, female (years)   \n",
       "Arab World          ARB  Life expectancy at birth, female (years)   \n",
       "Arab World          ARB  Life expectancy at birth, female (years)   \n",
       "Arab World          ARB  Life expectancy at birth, female (years)   \n",
       "Arab World          ARB  Life expectancy at birth, female (years)   \n",
       "\n",
       "               indicator_code  Year      Value  \n",
       "Country                                         \n",
       "Arab World  SP.DYN.LE00.FE.IN  1960  47.883246  \n",
       "Arab World  SP.DYN.LE00.FE.IN  1961  48.461243  \n",
       "Arab World  SP.DYN.LE00.FE.IN  1962  49.042932  \n",
       "Arab World  SP.DYN.LE00.FE.IN  1963  49.633776  \n",
       "Arab World  SP.DYN.LE00.FE.IN  1964  50.234994  "
      ]
     },
     "execution_count": 51,
     "metadata": {},
     "output_type": "execute_result"
    }
   ],
   "source": [
    "fem_arb.head()"
   ]
  },
  {
   "cell_type": "code",
   "execution_count": 52,
   "metadata": {},
   "outputs": [
    {
     "name": "stderr",
     "output_type": "stream",
     "text": [
      "C:\\Users\\Sairam\\Anaconda3\\lib\\site-packages\\scipy\\stats\\stats.py:1713: FutureWarning: Using a non-tuple sequence for multidimensional indexing is deprecated; use `arr[tuple(seq)]` instead of `arr[seq]`. In the future this will be interpreted as an array index, `arr[np.array(seq)]`, which will result either in an error or a different result.\n",
      "  return np.add.reduce(sorted[indexer] * weights, axis=axis) / sumval\n"
     ]
    },
    {
     "data": {
      "text/plain": [
       "<matplotlib.axes._subplots.AxesSubplot at 0x177007a6550>"
      ]
     },
     "execution_count": 52,
     "metadata": {},
     "output_type": "execute_result"
    },
    {
     "data": {
      "image/png": "[encoded data removed]",
      "text/plain": [
       "<Figure size 432x288 with 1 Axes>"
      ]
     },
     "metadata": {
      "needs_background": "light"
     },
     "output_type": "display_data"
    }
   ],
   "source": [
    "sns.distplot(fem_arb['Value'])"
   ]
  },
  {
   "cell_type": "code",
   "execution_count": 53,
   "metadata": {},
   "outputs": [],
   "source": [
    "fem_eu = female_subset.loc['European Union']"
   ]
  },
  {
   "cell_type": "code",
   "execution_count": 54,
   "metadata": {},
   "outputs": [
    {
     "data": {
      "text/html": [
       "<div>\n",
       "<style scoped>\n",
       "    .dataframe tbody tr th:only-of-type {\n",
       "        vertical-align: middle;\n",
       "    }\n",
       "\n",
       "    .dataframe tbody tr th {\n",
       "        vertical-align: top;\n",
       "    }\n",
       "\n",
       "    .dataframe thead th {\n",
       "        text-align: right;\n",
       "    }\n",
       "</style>\n",
       "<table border=\"1\" class=\"dataframe\">\n",
       "  <thead>\n",
       "    <tr style=\"text-align: right;\">\n",
       "      <th></th>\n",
       "      <th>country_code</th>\n",
       "      <th>indicator_name</th>\n",
       "      <th>indicator_code</th>\n",
       "      <th>Year</th>\n",
       "      <th>Value</th>\n",
       "    </tr>\n",
       "    <tr>\n",
       "      <th>Country</th>\n",
       "      <th></th>\n",
       "      <th></th>\n",
       "      <th></th>\n",
       "      <th></th>\n",
       "      <th></th>\n",
       "    </tr>\n",
       "  </thead>\n",
       "  <tbody>\n",
       "    <tr>\n",
       "      <th>European Union</th>\n",
       "      <td>EUU</td>\n",
       "      <td>Life expectancy at birth, female (years)</td>\n",
       "      <td>SP.DYN.LE00.FE.IN</td>\n",
       "      <td>1960</td>\n",
       "      <td>72.015095</td>\n",
       "    </tr>\n",
       "    <tr>\n",
       "      <th>European Union</th>\n",
       "      <td>EUU</td>\n",
       "      <td>Life expectancy at birth, female (years)</td>\n",
       "      <td>SP.DYN.LE00.FE.IN</td>\n",
       "      <td>1961</td>\n",
       "      <td>72.372835</td>\n",
       "    </tr>\n",
       "    <tr>\n",
       "      <th>European Union</th>\n",
       "      <td>EUU</td>\n",
       "      <td>Life expectancy at birth, female (years)</td>\n",
       "      <td>SP.DYN.LE00.FE.IN</td>\n",
       "      <td>1962</td>\n",
       "      <td>72.347706</td>\n",
       "    </tr>\n",
       "    <tr>\n",
       "      <th>European Union</th>\n",
       "      <td>EUU</td>\n",
       "      <td>Life expectancy at birth, female (years)</td>\n",
       "      <td>SP.DYN.LE00.FE.IN</td>\n",
       "      <td>1963</td>\n",
       "      <td>72.638709</td>\n",
       "    </tr>\n",
       "    <tr>\n",
       "      <th>European Union</th>\n",
       "      <td>EUU</td>\n",
       "      <td>Life expectancy at birth, female (years)</td>\n",
       "      <td>SP.DYN.LE00.FE.IN</td>\n",
       "      <td>1964</td>\n",
       "      <td>73.154780</td>\n",
       "    </tr>\n",
       "  </tbody>\n",
       "</table>\n",
       "</div>"
      ],
      "text/plain": [
       "               country_code                            indicator_name  \\\n",
       "Country                                                                 \n",
       "European Union          EUU  Life expectancy at birth, female (years)   \n",
       "European Union          EUU  Life expectancy at birth, female (years)   \n",
       "European Union          EUU  Life expectancy at birth, female (years)   \n",
       "European Union          EUU  Life expectancy at birth, female (years)   \n",
       "European Union          EUU  Life expectancy at birth, female (years)   \n",
       "\n",
       "                   indicator_code  Year      Value  \n",
       "Country                                             \n",
       "European Union  SP.DYN.LE00.FE.IN  1960  72.015095  \n",
       "European Union  SP.DYN.LE00.FE.IN  1961  72.372835  \n",
       "European Union  SP.DYN.LE00.FE.IN  1962  72.347706  \n",
       "European Union  SP.DYN.LE00.FE.IN  1963  72.638709  \n",
       "European Union  SP.DYN.LE00.FE.IN  1964  73.154780  "
      ]
     },
     "execution_count": 54,
     "metadata": {},
     "output_type": "execute_result"
    }
   ],
   "source": [
    "fem_eu.head()"
   ]
  },
  {
   "cell_type": "code",
   "execution_count": 55,
   "metadata": {},
   "outputs": [
    {
     "name": "stderr",
     "output_type": "stream",
     "text": [
      "C:\\Users\\Sairam\\Anaconda3\\lib\\site-packages\\scipy\\stats\\stats.py:1713: FutureWarning: Using a non-tuple sequence for multidimensional indexing is deprecated; use `arr[tuple(seq)]` instead of `arr[seq]`. In the future this will be interpreted as an array index, `arr[np.array(seq)]`, which will result either in an error or a different result.\n",
      "  return np.add.reduce(sorted[indexer] * weights, axis=axis) / sumval\n"
     ]
    },
    {
     "data": {
      "text/plain": [
       "<matplotlib.axes._subplots.AxesSubplot at 0x177008145c0>"
      ]
     },
     "execution_count": 55,
     "metadata": {},
     "output_type": "execute_result"
    },
    {
     "data": {
      "image/png": "[encoded data removed]",
      "text/plain": [
       "<Figure size 432x288 with 1 Axes>"
      ]
     },
     "metadata": {
      "needs_background": "light"
     },
     "output_type": "display_data"
    }
   ],
   "source": [
    "sns.distplot(fem_eu['Value'])"
   ]
  },
  {
   "cell_type": "code",
   "execution_count": 56,
   "metadata": {},
   "outputs": [],
   "source": [
    "male_high_income = male_subset.loc['High income']"
   ]
  },
  {
   "cell_type": "code",
   "execution_count": 57,
   "metadata": {},
   "outputs": [
    {
     "data": {
      "text/html": [
       "<div>\n",
       "<style scoped>\n",
       "    .dataframe tbody tr th:only-of-type {\n",
       "        vertical-align: middle;\n",
       "    }\n",
       "\n",
       "    .dataframe tbody tr th {\n",
       "        vertical-align: top;\n",
       "    }\n",
       "\n",
       "    .dataframe thead th {\n",
       "        text-align: right;\n",
       "    }\n",
       "</style>\n",
       "<table border=\"1\" class=\"dataframe\">\n",
       "  <thead>\n",
       "    <tr style=\"text-align: right;\">\n",
       "      <th></th>\n",
       "      <th>country_code</th>\n",
       "      <th>indicator_name</th>\n",
       "      <th>indicator_code</th>\n",
       "      <th>Year</th>\n",
       "      <th>Value</th>\n",
       "    </tr>\n",
       "    <tr>\n",
       "      <th>Country</th>\n",
       "      <th></th>\n",
       "      <th></th>\n",
       "      <th></th>\n",
       "      <th></th>\n",
       "      <th></th>\n",
       "    </tr>\n",
       "  </thead>\n",
       "  <tbody>\n",
       "    <tr>\n",
       "      <th>High income</th>\n",
       "      <td>HIC</td>\n",
       "      <td>Life expectancy at birth, male (years)</td>\n",
       "      <td>SP.DYN.LE00.MA.IN</td>\n",
       "      <td>1960</td>\n",
       "      <td>65.139558</td>\n",
       "    </tr>\n",
       "    <tr>\n",
       "      <th>High income</th>\n",
       "      <td>HIC</td>\n",
       "      <td>Life expectancy at birth, male (years)</td>\n",
       "      <td>SP.DYN.LE00.MA.IN</td>\n",
       "      <td>1961</td>\n",
       "      <td>65.507748</td>\n",
       "    </tr>\n",
       "    <tr>\n",
       "      <th>High income</th>\n",
       "      <td>HIC</td>\n",
       "      <td>Life expectancy at birth, male (years)</td>\n",
       "      <td>SP.DYN.LE00.MA.IN</td>\n",
       "      <td>1962</td>\n",
       "      <td>65.504554</td>\n",
       "    </tr>\n",
       "    <tr>\n",
       "      <th>High income</th>\n",
       "      <td>HIC</td>\n",
       "      <td>Life expectancy at birth, male (years)</td>\n",
       "      <td>SP.DYN.LE00.MA.IN</td>\n",
       "      <td>1963</td>\n",
       "      <td>65.661865</td>\n",
       "    </tr>\n",
       "    <tr>\n",
       "      <th>High income</th>\n",
       "      <td>HIC</td>\n",
       "      <td>Life expectancy at birth, male (years)</td>\n",
       "      <td>SP.DYN.LE00.MA.IN</td>\n",
       "      <td>1964</td>\n",
       "      <td>65.986434</td>\n",
       "    </tr>\n",
       "  </tbody>\n",
       "</table>\n",
       "</div>"
      ],
      "text/plain": [
       "            country_code                          indicator_name  \\\n",
       "Country                                                            \n",
       "High income          HIC  Life expectancy at birth, male (years)   \n",
       "High income          HIC  Life expectancy at birth, male (years)   \n",
       "High income          HIC  Life expectancy at birth, male (years)   \n",
       "High income          HIC  Life expectancy at birth, male (years)   \n",
       "High income          HIC  Life expectancy at birth, male (years)   \n",
       "\n",
       "                indicator_code  Year      Value  \n",
       "Country                                          \n",
       "High income  SP.DYN.LE00.MA.IN  1960  65.139558  \n",
       "High income  SP.DYN.LE00.MA.IN  1961  65.507748  \n",
       "High income  SP.DYN.LE00.MA.IN  1962  65.504554  \n",
       "High income  SP.DYN.LE00.MA.IN  1963  65.661865  \n",
       "High income  SP.DYN.LE00.MA.IN  1964  65.986434  "
      ]
     },
     "execution_count": 57,
     "metadata": {},
     "output_type": "execute_result"
    }
   ],
   "source": [
    "male_high_income.head()"
   ]
  },
  {
   "cell_type": "code",
   "execution_count": 58,
   "metadata": {},
   "outputs": [],
   "source": [
    "male_low_income = male_subset.loc['Low income']"
   ]
  },
  {
   "cell_type": "code",
   "execution_count": 59,
   "metadata": {},
   "outputs": [
    {
     "data": {
      "text/html": [
       "<div>\n",
       "<style scoped>\n",
       "    .dataframe tbody tr th:only-of-type {\n",
       "        vertical-align: middle;\n",
       "    }\n",
       "\n",
       "    .dataframe tbody tr th {\n",
       "        vertical-align: top;\n",
       "    }\n",
       "\n",
       "    .dataframe thead th {\n",
       "        text-align: right;\n",
       "    }\n",
       "</style>\n",
       "<table border=\"1\" class=\"dataframe\">\n",
       "  <thead>\n",
       "    <tr style=\"text-align: right;\">\n",
       "      <th></th>\n",
       "      <th>country_code</th>\n",
       "      <th>indicator_name</th>\n",
       "      <th>indicator_code</th>\n",
       "      <th>Year</th>\n",
       "      <th>Value</th>\n",
       "    </tr>\n",
       "    <tr>\n",
       "      <th>Country</th>\n",
       "      <th></th>\n",
       "      <th></th>\n",
       "      <th></th>\n",
       "      <th></th>\n",
       "      <th></th>\n",
       "    </tr>\n",
       "  </thead>\n",
       "  <tbody>\n",
       "    <tr>\n",
       "      <th>Low income</th>\n",
       "      <td>LIC</td>\n",
       "      <td>Life expectancy at birth, male (years)</td>\n",
       "      <td>SP.DYN.LE00.MA.IN</td>\n",
       "      <td>1960</td>\n",
       "      <td>37.773406</td>\n",
       "    </tr>\n",
       "    <tr>\n",
       "      <th>Low income</th>\n",
       "      <td>LIC</td>\n",
       "      <td>Life expectancy at birth, male (years)</td>\n",
       "      <td>SP.DYN.LE00.MA.IN</td>\n",
       "      <td>1961</td>\n",
       "      <td>38.166859</td>\n",
       "    </tr>\n",
       "    <tr>\n",
       "      <th>Low income</th>\n",
       "      <td>LIC</td>\n",
       "      <td>Life expectancy at birth, male (years)</td>\n",
       "      <td>SP.DYN.LE00.MA.IN</td>\n",
       "      <td>1962</td>\n",
       "      <td>38.559156</td>\n",
       "    </tr>\n",
       "    <tr>\n",
       "      <th>Low income</th>\n",
       "      <td>LIC</td>\n",
       "      <td>Life expectancy at birth, male (years)</td>\n",
       "      <td>SP.DYN.LE00.MA.IN</td>\n",
       "      <td>1963</td>\n",
       "      <td>38.960021</td>\n",
       "    </tr>\n",
       "    <tr>\n",
       "      <th>Low income</th>\n",
       "      <td>LIC</td>\n",
       "      <td>Life expectancy at birth, male (years)</td>\n",
       "      <td>SP.DYN.LE00.MA.IN</td>\n",
       "      <td>1964</td>\n",
       "      <td>39.375046</td>\n",
       "    </tr>\n",
       "  </tbody>\n",
       "</table>\n",
       "</div>"
      ],
      "text/plain": [
       "           country_code                          indicator_name  \\\n",
       "Country                                                           \n",
       "Low income          LIC  Life expectancy at birth, male (years)   \n",
       "Low income          LIC  Life expectancy at birth, male (years)   \n",
       "Low income          LIC  Life expectancy at birth, male (years)   \n",
       "Low income          LIC  Life expectancy at birth, male (years)   \n",
       "Low income          LIC  Life expectancy at birth, male (years)   \n",
       "\n",
       "               indicator_code  Year      Value  \n",
       "Country                                         \n",
       "Low income  SP.DYN.LE00.MA.IN  1960  37.773406  \n",
       "Low income  SP.DYN.LE00.MA.IN  1961  38.166859  \n",
       "Low income  SP.DYN.LE00.MA.IN  1962  38.559156  \n",
       "Low income  SP.DYN.LE00.MA.IN  1963  38.960021  \n",
       "Low income  SP.DYN.LE00.MA.IN  1964  39.375046  "
      ]
     },
     "execution_count": 59,
     "metadata": {},
     "output_type": "execute_result"
    }
   ],
   "source": [
    "male_low_income.head()"
   ]
  },
  {
   "cell_type": "code",
   "execution_count": 61,
   "metadata": {},
   "outputs": [],
   "source": [
    "fem_high_income = female_subset.loc['High income']"
   ]
  },
  {
   "cell_type": "code",
   "execution_count": 62,
   "metadata": {},
   "outputs": [
    {
     "data": {
      "text/html": [
       "<div>\n",
       "<style scoped>\n",
       "    .dataframe tbody tr th:only-of-type {\n",
       "        vertical-align: middle;\n",
       "    }\n",
       "\n",
       "    .dataframe tbody tr th {\n",
       "        vertical-align: top;\n",
       "    }\n",
       "\n",
       "    .dataframe thead th {\n",
       "        text-align: right;\n",
       "    }\n",
       "</style>\n",
       "<table border=\"1\" class=\"dataframe\">\n",
       "  <thead>\n",
       "    <tr style=\"text-align: right;\">\n",
       "      <th></th>\n",
       "      <th>country_code</th>\n",
       "      <th>indicator_name</th>\n",
       "      <th>indicator_code</th>\n",
       "      <th>Year</th>\n",
       "      <th>Value</th>\n",
       "    </tr>\n",
       "    <tr>\n",
       "      <th>Country</th>\n",
       "      <th></th>\n",
       "      <th></th>\n",
       "      <th></th>\n",
       "      <th></th>\n",
       "      <th></th>\n",
       "    </tr>\n",
       "  </thead>\n",
       "  <tbody>\n",
       "    <tr>\n",
       "      <th>High income</th>\n",
       "      <td>HIC</td>\n",
       "      <td>Life expectancy at birth, female (years)</td>\n",
       "      <td>SP.DYN.LE00.FE.IN</td>\n",
       "      <td>1960</td>\n",
       "      <td>71.085469</td>\n",
       "    </tr>\n",
       "    <tr>\n",
       "      <th>High income</th>\n",
       "      <td>HIC</td>\n",
       "      <td>Life expectancy at birth, female (years)</td>\n",
       "      <td>SP.DYN.LE00.FE.IN</td>\n",
       "      <td>1961</td>\n",
       "      <td>71.523724</td>\n",
       "    </tr>\n",
       "    <tr>\n",
       "      <th>High income</th>\n",
       "      <td>HIC</td>\n",
       "      <td>Life expectancy at birth, female (years)</td>\n",
       "      <td>SP.DYN.LE00.FE.IN</td>\n",
       "      <td>1962</td>\n",
       "      <td>71.613796</td>\n",
       "    </tr>\n",
       "    <tr>\n",
       "      <th>High income</th>\n",
       "      <td>HIC</td>\n",
       "      <td>Life expectancy at birth, female (years)</td>\n",
       "      <td>SP.DYN.LE00.FE.IN</td>\n",
       "      <td>1963</td>\n",
       "      <td>71.910684</td>\n",
       "    </tr>\n",
       "    <tr>\n",
       "      <th>High income</th>\n",
       "      <td>HIC</td>\n",
       "      <td>Life expectancy at birth, female (years)</td>\n",
       "      <td>SP.DYN.LE00.FE.IN</td>\n",
       "      <td>1964</td>\n",
       "      <td>72.338733</td>\n",
       "    </tr>\n",
       "  </tbody>\n",
       "</table>\n",
       "</div>"
      ],
      "text/plain": [
       "            country_code                            indicator_name  \\\n",
       "Country                                                              \n",
       "High income          HIC  Life expectancy at birth, female (years)   \n",
       "High income          HIC  Life expectancy at birth, female (years)   \n",
       "High income          HIC  Life expectancy at birth, female (years)   \n",
       "High income          HIC  Life expectancy at birth, female (years)   \n",
       "High income          HIC  Life expectancy at birth, female (years)   \n",
       "\n",
       "                indicator_code  Year      Value  \n",
       "Country                                          \n",
       "High income  SP.DYN.LE00.FE.IN  1960  71.085469  \n",
       "High income  SP.DYN.LE00.FE.IN  1961  71.523724  \n",
       "High income  SP.DYN.LE00.FE.IN  1962  71.613796  \n",
       "High income  SP.DYN.LE00.FE.IN  1963  71.910684  \n",
       "High income  SP.DYN.LE00.FE.IN  1964  72.338733  "
      ]
     },
     "execution_count": 62,
     "metadata": {},
     "output_type": "execute_result"
    }
   ],
   "source": [
    "fem_high_income.head()"
   ]
  },
  {
   "cell_type": "code",
   "execution_count": 63,
   "metadata": {},
   "outputs": [],
   "source": [
    "fem_low_income = female_subset.loc['Low income']"
   ]
  },
  {
   "cell_type": "code",
   "execution_count": 64,
   "metadata": {},
   "outputs": [
    {
     "data": {
      "text/html": [
       "<div>\n",
       "<style scoped>\n",
       "    .dataframe tbody tr th:only-of-type {\n",
       "        vertical-align: middle;\n",
       "    }\n",
       "\n",
       "    .dataframe tbody tr th {\n",
       "        vertical-align: top;\n",
       "    }\n",
       "\n",
       "    .dataframe thead th {\n",
       "        text-align: right;\n",
       "    }\n",
       "</style>\n",
       "<table border=\"1\" class=\"dataframe\">\n",
       "  <thead>\n",
       "    <tr style=\"text-align: right;\">\n",
       "      <th></th>\n",
       "      <th>country_code</th>\n",
       "      <th>indicator_name</th>\n",
       "      <th>indicator_code</th>\n",
       "      <th>Year</th>\n",
       "      <th>Value</th>\n",
       "    </tr>\n",
       "    <tr>\n",
       "      <th>Country</th>\n",
       "      <th></th>\n",
       "      <th></th>\n",
       "      <th></th>\n",
       "      <th></th>\n",
       "      <th></th>\n",
       "    </tr>\n",
       "  </thead>\n",
       "  <tbody>\n",
       "    <tr>\n",
       "      <th>Low income</th>\n",
       "      <td>LIC</td>\n",
       "      <td>Life expectancy at birth, female (years)</td>\n",
       "      <td>SP.DYN.LE00.FE.IN</td>\n",
       "      <td>1960</td>\n",
       "      <td>40.633621</td>\n",
       "    </tr>\n",
       "    <tr>\n",
       "      <th>Low income</th>\n",
       "      <td>LIC</td>\n",
       "      <td>Life expectancy at birth, female (years)</td>\n",
       "      <td>SP.DYN.LE00.FE.IN</td>\n",
       "      <td>1961</td>\n",
       "      <td>41.044247</td>\n",
       "    </tr>\n",
       "    <tr>\n",
       "      <th>Low income</th>\n",
       "      <td>LIC</td>\n",
       "      <td>Life expectancy at birth, female (years)</td>\n",
       "      <td>SP.DYN.LE00.FE.IN</td>\n",
       "      <td>1962</td>\n",
       "      <td>41.455364</td>\n",
       "    </tr>\n",
       "    <tr>\n",
       "      <th>Low income</th>\n",
       "      <td>LIC</td>\n",
       "      <td>Life expectancy at birth, female (years)</td>\n",
       "      <td>SP.DYN.LE00.FE.IN</td>\n",
       "      <td>1963</td>\n",
       "      <td>41.872877</td>\n",
       "    </tr>\n",
       "    <tr>\n",
       "      <th>Low income</th>\n",
       "      <td>LIC</td>\n",
       "      <td>Life expectancy at birth, female (years)</td>\n",
       "      <td>SP.DYN.LE00.FE.IN</td>\n",
       "      <td>1964</td>\n",
       "      <td>42.301129</td>\n",
       "    </tr>\n",
       "  </tbody>\n",
       "</table>\n",
       "</div>"
      ],
      "text/plain": [
       "           country_code                            indicator_name  \\\n",
       "Country                                                             \n",
       "Low income          LIC  Life expectancy at birth, female (years)   \n",
       "Low income          LIC  Life expectancy at birth, female (years)   \n",
       "Low income          LIC  Life expectancy at birth, female (years)   \n",
       "Low income          LIC  Life expectancy at birth, female (years)   \n",
       "Low income          LIC  Life expectancy at birth, female (years)   \n",
       "\n",
       "               indicator_code  Year      Value  \n",
       "Country                                         \n",
       "Low income  SP.DYN.LE00.FE.IN  1960  40.633621  \n",
       "Low income  SP.DYN.LE00.FE.IN  1961  41.044247  \n",
       "Low income  SP.DYN.LE00.FE.IN  1962  41.455364  \n",
       "Low income  SP.DYN.LE00.FE.IN  1963  41.872877  \n",
       "Low income  SP.DYN.LE00.FE.IN  1964  42.301129  "
      ]
     },
     "execution_count": 64,
     "metadata": {},
     "output_type": "execute_result"
    }
   ],
   "source": [
    "fem_low_income.head()"
   ]
  },
  {
   "cell_type": "code",
   "execution_count": 65,
   "metadata": {},
   "outputs": [
    {
     "data": {
      "text/plain": [
       "<matplotlib.axes._subplots.AxesSubplot at 0x17700adcc18>"
      ]
     },
     "execution_count": 65,
     "metadata": {},
     "output_type": "execute_result"
    },
    {
     "data": {
      "image/png": "[encoded data removed]",
      "text/plain": [
       "<Figure size 432x288 with 1 Axes>"
      ]
     },
     "metadata": {
      "needs_background": "light"
     },
     "output_type": "display_data"
    }
   ],
   "source": [
    "male_high_income.plot(x='Year', y='Value')"
   ]
  },
  {
   "cell_type": "code",
   "execution_count": 67,
   "metadata": {},
   "outputs": [
    {
     "data": {
      "text/plain": [
       "<matplotlib.axes._subplots.AxesSubplot at 0x17700c057b8>"
      ]
     },
     "execution_count": 67,
     "metadata": {},
     "output_type": "execute_result"
    },
    {
     "data": {
      "image/png": "[encoded data removed]",
      "text/plain": [
       "<Figure size 432x288 with 1 Axes>"
      ]
     },
     "metadata": {
      "needs_background": "light"
     },
     "output_type": "display_data"
    }
   ],
   "source": [
    "fem_high_income.plot(x='Year', y='Value')"
   ]
  },
  {
   "cell_type": "code",
   "execution_count": 85,
   "metadata": {},
   "outputs": [
    {
     "data": {
      "text/plain": [
       "<function matplotlib.pyplot.tight_layout(pad=1.08, h_pad=None, w_pad=None, rect=None)>"
      ]
     },
     "execution_count": 85,
     "metadata": {},
     "output_type": "execute_result"
    },
    {
     "data": {
      "image/png": "[encoded data removed]",
      "text/plain": [
       "<Figure size 1080x360 with 2 Axes>"
      ]
     },
     "metadata": {
      "needs_background": "light"
     },
     "output_type": "display_data"
    }
   ],
   "source": [
    "plt.figure(figsize=(15, 5))\n",
    "\n",
    "plt.subplot(1,2,1)\n",
    "plt.hist(male_high_income['Value'])\n",
    "plt.title('Frequency distributions of Age for Men in High Income')\n",
    "plt.xlabel('Age')\n",
    "plt.ylabel('Count')\n",
    "plt.savefig('male_high.jpg')\n",
    "\n",
    "plt.subplot(1,2,2)\n",
    "plt.hist(male_low_income['Value'])\n",
    "plt.title('Frequency distributions of Age for Men in Low Income')\n",
    "plt.xlabel('Age')\n",
    "plt.ylabel('Count')\n",
    "plt.savefig('male_low.jpg')\n",
    "\n",
    "plt.tight_layout"
   ]
  },
  {
   "cell_type": "code",
   "execution_count": 86,
   "metadata": {},
   "outputs": [
    {
     "data": {
      "text/plain": [
       "<function matplotlib.pyplot.tight_layout(pad=1.08, h_pad=None, w_pad=None, rect=None)>"
      ]
     },
     "execution_count": 86,
     "metadata": {},
     "output_type": "execute_result"
    },
    {
     "data": {
      "image/png": "[encoded data removed]",
      "text/plain": [
       "<Figure size 1080x360 with 2 Axes>"
      ]
     },
     "metadata": {
      "needs_background": "light"
     },
     "output_type": "display_data"
    }
   ],
   "source": [
    "plt.figure(figsize=(15, 5))\n",
    "\n",
    "plt.subplot(1,2,1)\n",
    "plt.hist(fem_high_income['Value'])\n",
    "plt.title('Frequency distributions of Age for Women in High Income')\n",
    "plt.xlabel('Age')\n",
    "plt.ylabel('Count')\n",
    "plt.savefig('fem_high.jpg')\n",
    "\n",
    "plt.subplot(1,2,2)\n",
    "plt.hist(fem_low_income['Value'])\n",
    "plt.title('Frequency distributions of Age for Women in Low Income')\n",
    "plt.xlabel('Age')\n",
    "plt.ylabel('Count')\n",
    "plt.savefig('fem_low.jpg')\n",
    "\n",
    "plt.tight_layout"
   ]
  },
  {
   "cell_type": "code",
   "execution_count": null,
   "metadata": {},
   "outputs": [],
   "source": []
  },
  {
   "cell_type": "code",
   "execution_count": null,
   "metadata": {},
   "outputs": [],
   "source": []
  }
 ],
 "metadata": {
  "kernelspec": {
   "display_name": "Python 3",
   "language": "python",
   "name": "python3"
  },
  "language_info": {
   "codemirror_mode": {
    "name": "ipython",
    "version": 3
   },
   "file_extension": ".py",
   "mimetype": "text/x-python",
   "name": "python",
   "nbconvert_exporter": "python",
   "pygments_lexer": "ipython3",
   "version": "3.7.0"
  }
 },
 "nbformat": 4,
 "nbformat_minor": 2
}
